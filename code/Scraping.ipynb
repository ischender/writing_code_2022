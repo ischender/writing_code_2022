{
 "cells": [
  {
   "cell_type": "markdown",
   "metadata": {},
   "source": [
    "## note: this is a bit messy, mostly the code I showed, and it is mostly for the students that need it for their projects\n",
    "\n",
    "Some more background info about scraping:\n",
    "\n",
    "https://journocode.com/2018/02/scraping-for-everyone/\n",
    "\n",
    "https://journocode.com/2019/01/web-scraping-tools-journalists-how-to/\n",
    "\n",
    "You can find more around, and probably youtube videos are a good idea because there is lots of fiddling. (You are a bit on your own here, because I don't like watching videos about coding)"
   ]
  },
  {
   "cell_type": "markdown",
   "metadata": {},
   "source": [
    "More background info about what's happening with web pages, servers, and everything:\n",
    "\n",
    "https://www.altexsoft.com/blog/engineering/web-application-architecture-how-the-web-works/\n",
    "\n",
    "https://hackr.io/blog/web-application-architecture-definition-models-types-and-more\n",
    "\n",
    "https://www.peerbits.com/blog/web-application-architecture.html\n",
    "\n",
    "What's a ReST API: https://en.wikipedia.org/wiki/Representational_state_transfer\n",
    "\n",
    "And the Document Object Model of web pages: https://en.wikipedia.org/wiki/Document_Object_Model (it is scary, I know)\n",
    "\n"
   ]
  },
  {
   "cell_type": "markdown",
   "metadata": {},
   "source": [
    "Sites we tackled, for projects for the students (* ):\n",
    "\n",
    "https://www.ica.se/recept/\n",
    "(cheat: look for ashx and asp)\n",
    "\n",
    "https://www.svenskaspel.se/lotto/resultat/2021-03-03\n",
    "\n",
    "https://www.architonic.com/en/products/sofas/0/3238218/86\n",
    "\n",
    "(* ) note to self: it is easier to teach on easy sample pages, instead of going in the messy wild..."
   ]
  },
  {
   "cell_type": "markdown",
   "metadata": {},
   "source": [
    "APIs to play with:\n",
    "\n",
    "https://wiki.openstreetmap.org/wiki/API_v0.6\n",
    "\n",
    "https://www.wikidata.org/wiki/Wikidata:Data_access#MediaWiki_API\n",
    "\n",
    "https://www.wikidata.org/w/api.php\n",
    "\n",
    "https://api.nasa.gov/ (sign up for the free account)\n",
    "\n",
    "https://www.themealdb.com/api.php\n",
    "\n",
    "https://wiki.openfoodfacts.org/API\n",
    "\n",
    "https://world.openfoodfacts.org/files/api-documentation.html\n",
    "\n",
    "http://www.recipepuppy.com/about/api/\n",
    "\n",
    "https://openweathermap.org/api\n",
    "\n",
    "More:\n",
    "https://github.com/public-apis/public-apis#food--drink"
   ]
  },
  {
   "cell_type": "code",
   "execution_count": 4,
   "metadata": {},
   "outputs": [],
   "source": [
    "# all the tools we need, install them/look them up\n",
    "\n",
    "import requests\n",
    "from bs4 import BeautifulSoup as bs\n",
    "import datetime\n",
    "from lxml import etree\n",
    "import lxml.html\n",
    "import json"
   ]
  },
  {
   "cell_type": "code",
   "execution_count": 5,
   "metadata": {},
   "outputs": [],
   "source": [
    "# url for the first site, we start from a working result,\n",
    "lotto_url = \"https://www.svenskaspel.se/lotto/resultat/2021-03-03\"\n",
    "# we use requests to access the page\n",
    "lotto_page = requests.get(lotto_url)"
   ]
  },
  {
   "cell_type": "code",
   "execution_count": 6,
   "metadata": {},
   "outputs": [
    {
     "data": {
      "text/plain": [
       "<Response [200]>"
      ]
     },
     "execution_count": 6,
     "metadata": {},
     "output_type": "execute_result"
    }
   ],
   "source": [
    "# we check the result\n",
    "lotto_page"
   ]
  },
  {
   "cell_type": "code",
   "execution_count": 7,
   "metadata": {},
   "outputs": [
    {
     "data": {
      "text/plain": [
       "b'\\n<!DOCTYPE html>\\n<html class=\"os-unknown osver-unknown desktop browser-unknown ft-check-app-version ft-gamelinks-analytics ft-product-start-fullwidth ft-lotto-campaign ft-smarter-header ft-swedbankpay-subscription ft-sportsbook ft-hide-oddset ft-subscription-dialog-eurojackpot ft-subscription-dialog-lotto ft-subscription-dialog-vikinglotto ft-leia-game-catalog ft-top-bar-tickets ft-leia-lordagsgodis ft-andelsspel-online ft-euj-subscription-change-1 ft-in-page-admin-v2 ft-fractiongames-fetch-reserved tenant-tb lotto\" lang=\"sv\">\\n<head>\\n    <meta charset=\"utf-8\">\\n    \\n    <meta name=\"description\" content=\"Resultat och r\\xc3\\xa4tta raden f\\xc3\\xb6r Lotto L\\xc3\\xb6rdag och Lotto Onsdag, samt Joker\">\\n    <meta name=\"keywords\" content=\"Lotto l\\xc3\\xb6rdag, Lotto onsdag, joker, r\\xc3\\xa4tta raden, vinn, jackpot, lottoresultat, Dr\\xc3\\xb6mvinsten, Miljonregnet, andra chansen\">\\n    <meta name=\"robots\" content=\"index, follow\">\\n    <meta property=\"og:site_name\" content=\"Svenska Spel\">\\n    <meta property=\"og:title\" content=\"Resultat '"
      ]
     },
     "execution_count": 7,
     "metadata": {},
     "output_type": "execute_result"
    }
   ],
   "source": [
    "# let's have a look at what we got\n",
    "lotto_page.content[:1000]"
   ]
  },
  {
   "cell_type": "code",
   "execution_count": 8,
   "metadata": {},
   "outputs": [
    {
     "data": {
      "text/plain": [
       "<Response [200]>"
      ]
     },
     "execution_count": 8,
     "metadata": {},
     "output_type": "execute_result"
    }
   ],
   "source": [
    "# fiddling with Chrome, we find that for every page we request this from an not documented, not protected API (bad programming)\n",
    "api_url = \"https://api.www.svenskaspel.se/multifetch?urls=/draw/lottosaturday/draws/2113/result|draw/jokersaturday/draws/1904/result&_=1616151084726\"\n",
    "results = requests.get(api_url)\n",
    "results"
   ]
  },
  {
   "cell_type": "code",
   "execution_count": 9,
   "metadata": {},
   "outputs": [
    {
     "data": {
      "text/plain": [
       "{'requestId': '11c3f6e6-0951-4955-8422-13e632b61cec',\n",
       " 'deviceId': 'null',\n",
       " 'requestInfo': {'dataSource': 'MultiFetch',\n",
       "  'elapsedTime': 9,\n",
       "  'apiVersion': 1},\n",
       " 'responses': [{'result': {'drawResult': [{'drawNumbers': [{'numbers': [34,\n",
       "         15,\n",
       "         5,\n",
       "         22,\n",
       "         12,\n",
       "         14,\n",
       "         18],\n",
       "        'type': 1,\n",
       "        'description': 'Regular numbers'},\n",
       "       {'numbers': [21, 11, 1, 13],\n",
       "        'type': 2,\n",
       "        'description': 'Extra numbers'}],\n",
       "      'type': 1,\n",
       "      'description': 'Lotto1'},\n",
       "     {'drawNumbers': [{'numbers': [27, 21, 34, 17, 8, 23, 28],\n",
       "        'type': 1,\n",
       "        'description': 'Regular numbers'},\n",
       "       {'numbers': [26, 25, 2, 1], 'type': 2, 'description': 'Extra numbers'}],\n",
       "      'type': 2,\n",
       "      'description': 'Lotto2'}],\n",
       "    'distribution': [{'type': 1,\n",
       "      'description': 'Lotto1',\n",
       "      'distribution': [{'name': '7 rätt', 'winners': 0, 'amount': '0,00'},\n",
       "       {'name': '6 rätt + tillägg', 'winners': 17, 'amount': '46409,00'},\n",
       "       {'name': '6 rätt', 'winners': 128, 'amount': '3595,00'},\n",
       "       {'name': '5 rätt', 'winners': 6387, 'amount': '123,00'},\n",
       "       {'name': '4 rätt', 'winners': 97691, 'amount': '22,00'},\n",
       "       {'name': 'Drömvinsten', 'winners': 0, 'amount': '0,00'}]},\n",
       "     {'type': 2,\n",
       "      'description': 'Lotto2',\n",
       "      'distribution': [{'name': '7 rätt',\n",
       "        'winners': 1,\n",
       "        'amount': '1965326,00'},\n",
       "       {'name': '6 rätt + tillägg', 'winners': 26, 'amount': '25916,00'},\n",
       "       {'name': '6 rätt', 'winners': 154, 'amount': '2552,00'},\n",
       "       {'name': '5 rätt', 'winners': 7669, 'amount': '87,00'},\n",
       "       {'name': '4 rätt', 'winners': 105364, 'amount': '18,00'},\n",
       "       {'name': 'Drömvinsten', 'winners': 0, 'amount': '0,00'}]}],\n",
       "    'productName': 'Lotto Lördag',\n",
       "    'productId': 10,\n",
       "    'drawNumber': 2113,\n",
       "    'currentNetSale': '33860907,00',\n",
       "    'regCloseTime': '2021-03-06T18:15:00+01:00'},\n",
       "   'error': None,\n",
       "   'requestId': 'fb5cdc61-ddea-40d9-8f82-6ccdc10faf7c',\n",
       "   'sessionId': None,\n",
       "   'deviceId': 'cd5d7346-4e2d-4230-bd3d-09df5fecda7a',\n",
       "   'session': None,\n",
       "   'sessionUser': None,\n",
       "   'clientInfo': None,\n",
       "   'requestInfo': {'transportProcessTime': 3,\n",
       "    'backendProcessTime': 0,\n",
       "    'fgwRTT': 1,\n",
       "    'channel': 'fgw',\n",
       "    'elapsedTime': 6,\n",
       "    'apiVersion': 1}},\n",
       "  {'result': {'drawResult': {'numbers': [2, 0, 4, 2, 3, 8, 4],\n",
       "     'type': 0,\n",
       "     'description': None},\n",
       "    'distribution': [{'name': '7 rätt', 'winners': 0, 'amount': '10000000,00'},\n",
       "     {'name': '6 rätt', 'winners': 3, 'amount': '250000,00'},\n",
       "     {'name': '5 rätt', 'winners': 22, 'amount': '20000,00'},\n",
       "     {'name': '4 rätt', 'winners': 191, 'amount': '2000,00'},\n",
       "     {'name': '3 rätt', 'winners': 1794, 'amount': '200,00'},\n",
       "     {'name': '2 rätt', 'winners': 17203, 'amount': '80,00'}],\n",
       "    'productName': 'Joker Lördag',\n",
       "    'productId': 12,\n",
       "    'drawNumber': 1904,\n",
       "    'currentNetSale': '9802470,00',\n",
       "    'regCloseTime': '2021-03-06T18:15:00+01:00'},\n",
       "   'error': None,\n",
       "   'requestId': '884e9e0c-a4f8-4a1a-9c5d-c563dc45d8b3',\n",
       "   'sessionId': None,\n",
       "   'deviceId': '2be000a0-f55c-436c-ffeb-ab4fef76d7d9',\n",
       "   'session': None,\n",
       "   'sessionUser': None,\n",
       "   'clientInfo': None,\n",
       "   'requestInfo': {'transportProcessTime': 4,\n",
       "    'backendProcessTime': 0,\n",
       "    'fgwRTT': 2,\n",
       "    'channel': 'fgw',\n",
       "    'elapsedTime': 6,\n",
       "    'apiVersion': 1}}]}"
      ]
     },
     "execution_count": 9,
     "metadata": {},
     "output_type": "execute_result"
    }
   ],
   "source": [
    "# let's load it in json and see what's inside\n",
    "json.loads(results.content)"
   ]
  },
  {
   "cell_type": "code",
   "execution_count": 10,
   "metadata": {},
   "outputs": [],
   "source": [
    "# the url has 2 number we can work with, the one in lottosaturday/draws/NUMBER/result|draw/\n",
    "# and the ones here draws/NUMBER/result\n",
    "# we can play with them a bit\n",
    "# [...]\n",
    "# in my experiments, only the FIRST one matters"
   ]
  },
  {
   "cell_type": "code",
   "execution_count": 11,
   "metadata": {},
   "outputs": [],
   "source": [
    "# create a model for the URL, to change the number, try some dates\n",
    "api_url = \"https://api.www.svenskaspel.se/multifetch?urls=/draw/lottosaturday/draws/{}/result|draw/jokersaturday/draws/1904/result&_=1616151084726\"\n",
    "results = []\n",
    "for i in range(2000, 2015):\n",
    "    api_url_current = api_url.format(i)\n",
    "    result = requests.get(api_url_current)\n",
    "    results.append(json.loads(result.content))"
   ]
  },
  {
   "cell_type": "code",
   "execution_count": 12,
   "metadata": {},
   "outputs": [
    {
     "data": {
      "text/plain": [
       "15"
      ]
     },
     "execution_count": 12,
     "metadata": {},
     "output_type": "execute_result"
    }
   ],
   "source": [
    "len(results)"
   ]
  },
  {
   "cell_type": "code",
   "execution_count": 13,
   "metadata": {},
   "outputs": [],
   "source": [
    "# OK, we have all of them"
   ]
  },
  {
   "cell_type": "code",
   "execution_count": 14,
   "metadata": {},
   "outputs": [
    {
     "name": "stdout",
     "output_type": "stream",
     "text": [
      "{'requestId': '7c05787e-e7e8-4bd2-89db-93eba7a5ff65', 'deviceId': 'null', 'requestInfo': {'dataSource': 'MultiFetch', 'elapsedTime': 45, 'apiVersion': 1}, 'responses': [{'result': {'drawResult': [{'drawNumbers': [{'numbers': [23, 29, 12, 6, 13, 22, 28], 'type': 1, 'description': 'Regular numbers'}, {'numbers': [16, 26, 31, 33], 'type': 2, 'description': 'Extra numbers'}], 'type': 1, 'description': 'Lotto1'}, {'drawNumbers': [{'numbers': [16, 17, 15, 8, 27, 10, 35], 'type': 1, 'description': 'Regular numbers'}, {'numbers': [22, 24, 29, 13], 'type': 2, 'description': 'Extra numbers'}], 'type': 2, 'description': 'Lotto2'}], 'distribution': [{'type': 1, 'description': 'Lotto1', 'distribution': [{'name': '7 rätt', 'winners': 2, 'amount': '1131038,00'}, {'name': '6 rätt + tillägg', 'winners': 16, 'amount': '48473,00'}, {'name': '6 rätt', 'winners': 125, 'amount': '3619,00'}, {'name': '5 rätt', 'winners': 5541, 'amount': '139,00'}, {'name': '4 rätt', 'winners': 88612, 'amount': '24,00'}, {'name': 'Drömvinsten', 'winners': 0, 'amount': '0,00'}]}, {'type': 2, 'description': 'Lotto2', 'distribution': [{'name': '7 rätt', 'winners': 3, 'amount': '636900,00'}, {'name': '6 rätt + tillägg', 'winners': 15, 'amount': '43673,00'}, {'name': '6 rätt', 'winners': 125, 'amount': '3057,00'}, {'name': '5 rätt', 'winners': 6615, 'amount': '99,00'}, {'name': '4 rätt', 'winners': 94630, 'amount': '19,00'}, {'name': 'Drömvinsten', 'winners': 0, 'amount': '0,00'}]}], 'productName': 'Lotto Lördag', 'productId': 10, 'drawNumber': 2005, 'currentNetSale': '33117303,00', 'regCloseTime': '2019-02-09T18:15:00+01:00'}, 'error': None, 'requestId': '40f2d8b2-0ac4-4cf3-8348-824f3c576216', 'sessionId': None, 'deviceId': 'fa01671b-2057-4707-b97e-11082a8b0e43', 'session': None, 'sessionUser': None, 'clientInfo': None, 'requestInfo': {'transportProcessTime': 3, 'backendProcessTime': 0, 'fgwRTT': 1, 'channel': 'fgw', 'elapsedTime': 5, 'apiVersion': 1}}, {'result': {'drawResult': {'numbers': [2, 0, 4, 2, 3, 8, 4], 'type': 0, 'description': None}, 'distribution': [{'name': '7 rätt', 'winners': 0, 'amount': '10000000,00'}, {'name': '6 rätt', 'winners': 3, 'amount': '250000,00'}, {'name': '5 rätt', 'winners': 22, 'amount': '20000,00'}, {'name': '4 rätt', 'winners': 191, 'amount': '2000,00'}, {'name': '3 rätt', 'winners': 1794, 'amount': '200,00'}, {'name': '2 rätt', 'winners': 17203, 'amount': '80,00'}], 'productName': 'Joker Lördag', 'productId': 12, 'drawNumber': 1904, 'currentNetSale': '9802470,00', 'regCloseTime': '2021-03-06T18:15:00+01:00'}, 'error': None, 'requestId': 'f74260f8-2c95-4871-b451-713f002ce431', 'sessionId': None, 'deviceId': '0ff5c088-3d63-451c-dadf-7b2a84cc1f0a', 'session': None, 'sessionUser': None, 'clientInfo': None, 'requestInfo': {'transportProcessTime': 39, 'backendProcessTime': 0, 'fgwRTT': 37, 'channel': 'fgw', 'elapsedTime': 41, 'apiVersion': 1}}]}\n"
     ]
    }
   ],
   "source": [
    "# checking one\n",
    "print(results[5])"
   ]
  },
  {
   "cell_type": "code",
   "execution_count": 15,
   "metadata": {},
   "outputs": [],
   "source": [
    "# we have the date from 2019-02-09 and it looks sane"
   ]
  },
  {
   "cell_type": "code",
   "execution_count": 16,
   "metadata": {},
   "outputs": [
    {
     "name": "stdout",
     "output_type": "stream",
     "text": [
      "2022-03-09\n",
      "2022-03-08\n",
      "2022-03-07\n",
      "2022-03-06\n",
      "2022-03-05\n",
      "2022-03-04\n",
      "2022-03-03\n",
      "2022-03-02\n",
      "2022-03-01\n",
      "2022-02-28\n",
      "2022-02-27\n",
      "2022-02-26\n",
      "2022-02-25\n",
      "2022-02-24\n",
      "2022-02-23\n"
     ]
    }
   ],
   "source": [
    "# what if we wanted to play with the URL instead? We can use datetime.date and datetime.timedelta\n",
    "for i in range(15):\n",
    "    print(datetime.date.today() - datetime.timedelta(days=i))"
   ]
  },
  {
   "cell_type": "code",
   "execution_count": 17,
   "metadata": {},
   "outputs": [
    {
     "data": {
      "text/plain": [
       "15"
      ]
     },
     "execution_count": 17,
     "metadata": {},
     "output_type": "execute_result"
    }
   ],
   "source": [
    "# let's give it a try... only Tuesday and Saturday should be there, so if we have 15 dates, we should have 4-5 results...\n",
    "valid_urls = []\n",
    "RANGE = 15\n",
    "for i in range(RANGE):\n",
    "    extra = datetime.date.today() - datetime.timedelta(days=i)\n",
    "    lotto_url = \"https://www.svenskaspel.se/lotto/resultat/{}\".format(extra)\n",
    "#     print(lotto_url)\n",
    "    r = requests.get(lotto_url)\n",
    "    if r.ok:\n",
    "        valid_urls.append(lotto_url)\n",
    "# let's check\n",
    "len(valid_urls)"
   ]
  },
  {
   "cell_type": "code",
   "execution_count": 18,
   "metadata": {},
   "outputs": [],
   "source": [
    "# UH? not good... let's check the results"
   ]
  },
  {
   "cell_type": "code",
   "execution_count": 19,
   "metadata": {},
   "outputs": [
    {
     "data": {
      "text/plain": [
       "<Response [200]>"
      ]
     },
     "execution_count": 19,
     "metadata": {},
     "output_type": "execute_result"
    }
   ],
   "source": [
    "# this is valid date\n",
    "lotto = requests.get(\"https://www.svenskaspel.se/lotto/resultat/2021-03-03\")\n",
    "lotto"
   ]
  },
  {
   "cell_type": "code",
   "execution_count": 20,
   "metadata": {},
   "outputs": [
    {
     "data": {
      "text/plain": [
       "<Response [200]>"
      ]
     },
     "execution_count": 20,
     "metadata": {},
     "output_type": "execute_result"
    }
   ],
   "source": [
    "# is should not be\n",
    "requests.get(\"https://www.svenskaspel.se/lotto/resultat/2021-03-02\")"
   ]
  },
  {
   "cell_type": "code",
   "execution_count": 21,
   "metadata": {},
   "outputs": [],
   "source": [
    "# damn, they give us the current result, without a 404 result..."
   ]
  },
  {
   "cell_type": "markdown",
   "metadata": {},
   "source": [
    "Weird choice: https://en.wikipedia.org/wiki/List_of_HTTP_status_codes\n",
    "\n",
    "Please note my favorite response is **418 I'm a teapot** https://en.wikipedia.org/wiki/Hyper_Text_Coffee_Pot_Control_Protocol\n",
    "\n",
    "Yes, it is in the protocol. I was serious about programmers and humor. I never joke. (Ehm...)"
   ]
  },
  {
   "cell_type": "code",
   "execution_count": 22,
   "metadata": {},
   "outputs": [],
   "source": [
    "# so what's inside? Let's use beautifulsoup \n",
    "# https://www.crummy.com/software/BeautifulSoup/bs4/doc/\n",
    "lotto_h = bs(lotto.text, 'html.parser')"
   ]
  },
  {
   "cell_type": "code",
   "execution_count": 23,
   "metadata": {},
   "outputs": [
    {
     "data": {
      "text/plain": [
       "[]"
      ]
     },
     "execution_count": 23,
     "metadata": {},
     "output_type": "execute_result"
    }
   ],
   "source": [
    "# let's try to use a selector\n",
    "selector = \"#correctRowRegion > div > div > div > div > div > div.ball-row-numbers-regular > div:nth-child(2) > div.ball-inner > span\"\n",
    "lotto_h.select(selector)"
   ]
  },
  {
   "cell_type": "code",
   "execution_count": 24,
   "metadata": {},
   "outputs": [],
   "source": [
    "# that didn't work... let's backtrack and select the script, because they are embedding the results in a javascript\n",
    "\n",
    "# have I ALREADY complained about the programmers of this website? 'cause I could go on"
   ]
  },
  {
   "cell_type": "code",
   "execution_count": 25,
   "metadata": {},
   "outputs": [
    {
     "data": {
      "text/plain": [
       "'<script type=\"text/javascript\">\\n            _svs=window.svs=window.svs||{};\\n_core=_svs.core=_svs.core||{};\\n_core.analytics=_core.analytics||{};\\n_core.analytics.data=_core.analytics.data||{};\\n_core.analytics.data.svsanalytics={\"config\":{\"account\":\"UA-7859264-15\",\"domain\":\"www.svenskaspel.se\",\"siteSpeedSampleRate\":\"1\",\"gtmAccount\":\"GTM-WP3D5R\",\"gtmEnabled\":true},\"adobeLaunch\":{\"enabled\":true,\"script\":\"\",\"suite\":\"PROD\",\"site\":\"tur\"},\"formFactor\":\"desktop\",\"extraOptions\":{\"hitCallbackTimeout\":2000},\"adobeUser\":{\"loggedIn\":\"no\"},\"user\":{\"user\":{\"segment\":0,\"loggedIn\":\"no\"}}};\\n_svs.content=_svs.content||{};\\n_svs.content.footer=_svs.content.footer||{};\\n_svs.content.footer.data=_svs.content.footer.data||{};\\n_svs.content.footer.data.config={\"customerService\":[{\"label\":\"Vanliga frågor\",\"link\":\"/kundservice\",\"title\":\"Vanliga frågor\"},{\"label\":\"Telefon: 0770-11 11 11\",\"type\":\"tel\",\"link\":\"tel:0770-111111\",\"title\":\"Telefon\"},{\"label\":\"Kontakta oss\",\"link\":\"/kundservice\",\"title\":\"Kontakta oss\"}],\"co'"
      ]
     },
     "execution_count": 25,
     "metadata": {},
     "output_type": "execute_result"
    }
   ],
   "source": [
    "# we want this script, I showed on Chrome\n",
    "script_selector = \"body > script:nth-child(9)\"\n",
    "lotto_selected = lotto_h.select(script_selector)[0]\n",
    "str(lotto_selected)[:1000]"
   ]
  },
  {
   "cell_type": "code",
   "execution_count": 26,
   "metadata": {},
   "outputs": [
    {
     "name": "stdout",
     "output_type": "stream",
     "text": [
      "\n",
      "_svs.lotto.data.resultData={\"result\":{\"drawResult\":[{\"drawNumbers\":[{\"numbers\":[28,2,31,25,6,23,4],\"type\":1,\"description\":\"Regular numbers\"},{\"numbers\":[22,9,8,3],\"type\":2,\"description\":\"Extra numbers\"}],\"type\":1,\"description\":\"Lotto1\"},{\"drawNumbers\":[{\"numbers\":[26,22,34,33,8,32,31],\"type\":1,\"description\":\"Regular numbers\"},{\"numbers\":[13,3,14,29],\"type\":2,\"description\":\"Extra numbers\"}],\"type\":2,\"description\":\"Lotto2\"}],\"distribution\":[{\"type\":1,\"description\":\"Lotto1\",\"distribution\":[{\"name\":\"7 rätt\",\"winners\":0,\"amount\":\"0,00\"},{\"name\":\"6 rätt + tillägg\",\"winners\":9,\"amount\":\"38178,00\"},{\"name\":\"6 rätt\",\"winners\":67,\"amount\":\"2991,00\"},{\"name\":\"5 rätt\",\"winners\":2744,\"amount\":\"125,00\"},{\"name\":\"4 rätt\",\"winners\":41577,\"amount\":\"23,00\"},{\"name\":\"Drömvinsten\",\"winners\":0,\"amount\":\"0,00\"}]},{\"type\":2,\"description\":\"Lotto2\",\"distribution\":[{\"name\":\"7 rätt\",\"winners\":0,\"amount\":\"0,00\"},{\"name\":\"6 rätt + tillägg\",\"winners\":6,\"amount\":\"52934,00\"},{\"name\":\"6 rätt\",\"winners\":55,\"amount\":\"3368,00\"},{\"name\":\"5 rätt\",\"winners\":2642,\"amount\":\"120,00\"},{\"name\":\"4 rätt\",\"winners\":38668,\"amount\":\"23,00\"},{\"name\":\"Drömvinsten\",\"winners\":0,\"amount\":\"0,00\"}]}],\"productName\":\"Lotto Onsdag\",\"productId\":11,\"drawNumber\":2114,\"currentNetSale\":\"15305955,00\",\"regCloseTime\":\"2021-03-03T17:15:00+01:00\"},\"datePicker\":{\"error\":null,\"requestId\":\"c53fb1a9-e118-4591-8db5-e2c5c23318bf\",\"sessionId\":\"[hidden]\",\"deviceId\":\"[hidden]\",\"session\":null,\"sessionUser\":null,\"clientInfo\":null,\"product\":\"lotto\",\"live\":false,\"year\":2021,\"month\":3,\"resultDates\":[{\"date\":\"2021-03-03T00:00:00+01:00\",\"openDate\":null,\"closeDate\":null,\"product\":\"lottowednesday\",\"drawNumber\":2114,\"drawState\":null,\"drawStateId\":0},{\"date\":\"2021-03-06T00:00:00+01:00\",\"openDate\":null,\"closeDate\":null,\"product\":\"lottosaturday\",\"drawNumber\":2113,\"drawState\":null,\"drawStateId\":0},{\"date\":\"2021-03-10T00:00:00+01:00\",\"openDate\":null,\"closeDate\":null,\"product\":\"lottowednesday\",\"drawNumber\":2115,\"drawState\":null,\"drawStateId\":0},{\"date\":\"2021-03-13T00:00:00+01:00\",\"openDate\":null,\"closeDate\":null,\"product\":\"lottosaturday\",\"drawNumber\":2114,\"drawState\":null,\"drawStateId\":0},{\"date\":\"2021-03-17T00:00:00+01:00\",\"openDate\":null,\"closeDate\":null,\"product\":\"lottowednesday\",\"drawNumber\":2116,\"drawState\":null,\"drawStateId\":0},{\"date\":\"2021-03-20T00:00:00+01:00\",\"openDate\":null,\"closeDate\":null,\"product\":\"lottosaturday\",\"drawNumber\":2115,\"drawState\":null,\"drawStateId\":0},{\"date\":\"2021-03-24T00:00:00+01:00\",\"openDate\":null,\"closeDate\":null,\"product\":\"lottowednesday\",\"drawNumber\":2117,\"drawState\":null,\"drawStateId\":0},{\"date\":\"2021-03-27T00:00:00+01:00\",\"openDate\":null,\"closeDate\":null,\"product\":\"lottosaturday\",\"drawNumber\":2116,\"drawState\":null,\"drawStateId\":0},{\"date\":\"2021-03-31T00:00:00+02:00\",\"openDate\":null,\"closeDate\":null,\"product\":\"lottowednesday\",\"drawNumber\":2118,\"drawState\":null,\"drawStateId\":0},{\"date\":\"2021-04-03T00:00:00+02:00\",\"openDate\":null,\"closeDate\":null,\"product\":\"lottosaturday\",\"drawNumber\":2117,\"drawState\":null,\"drawStateId\":0}],\"requestInfo\":{\"transportProcessTime\":3,\"backendProcessTime\":14,\"fgwRTT\":15,\"backendModuleProcessTime\":14,\"channel\":\"fgw\",\"elapsedTime\":18,\"apiVersion\":1}},\"addonResult\":{\"drawResult\":{\"numbers\":[3,0,5,6,8,0,3],\"type\":0,\"description\":null},\"distribution\":[{\"name\":\"7 rätt\",\"winners\":0,\"amount\":\"10000000,00\"},{\"name\":\"6 rätt\",\"winners\":0,\"amount\":\"250000,00\"},{\"name\":\"5 rätt\",\"winners\":3,\"amount\":\"20000,00\"},{\"name\":\"4 rätt\",\"winners\":96,\"amount\":\"2000,00\"},{\"name\":\"3 rätt\",\"winners\":1019,\"amount\":\"200,00\"},{\"name\":\"2 rätt\",\"winners\":10323,\"amount\":\"80,00\"}],\"productName\":\"Joker Onsdag\",\"productId\":13,\"drawNumber\":929,\"currentNetSale\":\"5804070,00\",\"regCloseTime\":\"2021-03-03T17:15:00+01:00\"},\"addonDatePicker\":{\"error\":null,\"requestId\":\"b4fc31e2-1022-44d3-8de5-c695f757cc75\",\"sessionId\":\"[hidden]\",\"deviceId\":\"[hidden]\",\"session\":null,\"sessionUser\":null,\"clientInfo\":null,\"product\":\"joker\",\"live\":false,\"year\":2021,\"month\":3,\"resultDates\":[{\"date\":\"2021-03-03T00:00:00+01:00\",\"openDate\":null,\"closeDate\":null,\"product\":\"jokerwednesday\",\"drawNumber\":929,\"drawState\":null,\"drawStateId\":0},{\"date\":\"2021-03-06T00:00:00+01:00\",\"openDate\":null,\"closeDate\":null,\"product\":\"jokersaturday\",\"drawNumber\":1904,\"drawState\":null,\"drawStateId\":0},{\"date\":\"2021-03-10T00:00:00+01:00\",\"openDate\":null,\"closeDate\":null,\"product\":\"jokerwednesday\",\"drawNumber\":930,\"drawState\":null,\"drawStateId\":0},{\"date\":\"2021-03-13T00:00:00+01:00\",\"openDate\":null,\"closeDate\":null,\"product\":\"jokersaturday\",\"drawNumber\":1905,\"drawState\":null,\"drawStateId\":0},{\"date\":\"2021-03-17T00:00:00+01:00\",\"openDate\":null,\"closeDate\":null,\"product\":\"jokerwednesday\",\"drawNumber\":931,\"drawState\":null,\"drawStateId\":0},{\"date\":\"2021-03-20T00:00:00+01:00\",\"openDate\":null,\"closeDate\":null,\"product\":\"jokersaturday\",\"drawNumber\":1906,\"drawState\":null,\"drawStateId\":0},{\"date\":\"2021-03-24T00:00:00+01:00\",\"openDate\":null,\"closeDate\":null,\"product\":\"jokerwednesday\",\"drawNumber\":932,\"drawState\":null,\"drawStateId\":0},{\"date\":\"2021-03-27T00:00:00+01:00\",\"openDate\":null,\"closeDate\":null,\"product\":\"jokersaturday\",\"drawNumber\":1907,\"drawState\":null,\"drawStateId\":0},{\"date\":\"2021-03-31T00:00:00+02:00\",\"openDate\":null,\"closeDate\":null,\"product\":\"jokerwednesday\",\"drawNumber\":933,\"drawState\":null,\"drawStateId\":0},{\"date\":\"2021-04-03T00:00:00+02:00\",\"openDate\":null,\"closeDate\":null,\"product\":\"jokersaturday\",\"drawNumber\":1908,\"drawState\":null,\"drawStateId\":0}],\"requestInfo\":{\"transportProcessTime\":7,\"backendProcessTime\":5,\"fgwRTT\":10,\"backendModuleProcessTime\":5,\"channel\":\"fgw\",\"elapsedTime\":13,\"apiVersion\":1}}}\n"
     ]
    }
   ],
   "source": [
    "# they have resultData with the data embedded in the javascript file\n",
    "# I tried splitting on newline, it didn't work, it works with ';'\n",
    "results = []\n",
    "for el in lotto_selected.contents[0].split(\";\"):\n",
    "    if \"resultData\" in el:\n",
    "        print(el)\n",
    "        break"
   ]
  },
  {
   "cell_type": "code",
   "execution_count": 27,
   "metadata": {},
   "outputs": [
    {
     "data": {
      "text/plain": [
       "'{\"result\":{\"drawResult\":[{\"drawNumbers\":[{\"numbers\":[28,2,31,25,6,23,4],\"type\":1,\"description\":\"Regular numbers\"},{\"numbers\":[22,9,8,3],\"type\":2,\"description\":\"Extra numbers\"}],\"type\":1,\"description\":\"Lotto1\"},{\"drawNumbers\":[{\"numbers\":[26,22,34,33,8,32,31],\"type\":1,\"description\":\"Regular numbers\"},{\"numbers\":[13,3,14,29],\"type\":2,\"description\":\"Extra numbers\"}],\"type\":2,\"description\":\"Lotto2\"}],\"distribution\":[{\"type\":1,\"description\":\"Lotto1\",\"distribution\":[{\"name\":\"7 rätt\",\"winners\":0,\"amount\":\"0,00\"},{\"name\":\"6 rätt + tillägg\",\"winners\":9,\"amount\":\"38178,00\"},{\"name\":\"6 rätt\",\"winners\":67,\"amount\":\"2991,00\"},{\"name\":\"5 rätt\",\"winners\":2744,\"amount\":\"125,00\"},{\"name\":\"4 rätt\",\"winners\":41577,\"amount\":\"23,00\"},{\"name\":\"Drömvinsten\",\"winners\":0,\"amount\":\"0,00\"}]},{\"type\":2,\"description\":\"Lotto2\",\"distribution\":[{\"name\":\"7 rätt\",\"winners\":0,\"amount\":\"0,00\"},{\"name\":\"6 rätt + tillägg\",\"winners\":6,\"amount\":\"52934,00\"},{\"name\":\"6 rätt\",\"winners\":55,\"amount\":\"3368,00\"},{\"name\":\"5 rätt\",\"winners\":2642,\"amount\":\"120,00\"},{\"name\":\"4 rätt\",\"winners\":38668,\"amount\":\"23,00\"},{\"name\":\"Drömvinsten\",\"winners\":0,\"amount\":\"0,00\"}]}],\"productName\":\"Lotto Onsdag\",\"productId\":11,\"drawNumber\":2114,\"currentNetSale\":\"15305955,00\",\"regCloseTime\":\"2021-03-03T17:15:00+01:00\"},\"datePicker\":{\"error\":null,\"requestId\":\"c53fb1a9-e118-4591-8db5-e2c5c23318bf\",\"sessionId\":\"[hidden]\",\"deviceId\":\"[hidden]\",\"session\":null,\"sessionUser\":null,\"clientInfo\":null,\"product\":\"lotto\",\"live\":false,\"year\":2021,\"month\":3,\"resultDates\":[{\"date\":\"2021-03-03T00:00:00+01:00\",\"openDate\":null,\"closeDate\":null,\"product\":\"lottowednesday\",\"drawNumber\":2114,\"drawState\":null,\"drawStateId\":0},{\"date\":\"2021-03-06T00:00:00+01:00\",\"openDate\":null,\"closeDate\":null,\"product\":\"lottosaturday\",\"drawNumber\":2113,\"drawState\":null,\"drawStateId\":0},{\"date\":\"2021-03-10T00:00:00+01:00\",\"openDate\":null,\"closeDate\":null,\"product\":\"lottowednesday\",\"drawNumber\":2115,\"drawState\":null,\"drawStateId\":0},{\"date\":\"2021-03-13T00:00:00+01:00\",\"openDate\":null,\"closeDate\":null,\"product\":\"lottosaturday\",\"drawNumber\":2114,\"drawState\":null,\"drawStateId\":0},{\"date\":\"2021-03-17T00:00:00+01:00\",\"openDate\":null,\"closeDate\":null,\"product\":\"lottowednesday\",\"drawNumber\":2116,\"drawState\":null,\"drawStateId\":0},{\"date\":\"2021-03-20T00:00:00+01:00\",\"openDate\":null,\"closeDate\":null,\"product\":\"lottosaturday\",\"drawNumber\":2115,\"drawState\":null,\"drawStateId\":0},{\"date\":\"2021-03-24T00:00:00+01:00\",\"openDate\":null,\"closeDate\":null,\"product\":\"lottowednesday\",\"drawNumber\":2117,\"drawState\":null,\"drawStateId\":0},{\"date\":\"2021-03-27T00:00:00+01:00\",\"openDate\":null,\"closeDate\":null,\"product\":\"lottosaturday\",\"drawNumber\":2116,\"drawState\":null,\"drawStateId\":0},{\"date\":\"2021-03-31T00:00:00+02:00\",\"openDate\":null,\"closeDate\":null,\"product\":\"lottowednesday\",\"drawNumber\":2118,\"drawState\":null,\"drawStateId\":0},{\"date\":\"2021-04-03T00:00:00+02:00\",\"openDate\":null,\"closeDate\":null,\"product\":\"lottosaturday\",\"drawNumber\":2117,\"drawState\":null,\"drawStateId\":0}],\"requestInfo\":{\"transportProcessTime\":3,\"backendProcessTime\":14,\"fgwRTT\":15,\"backendModuleProcessTime\":14,\"channel\":\"fgw\",\"elapsedTime\":18,\"apiVersion\":1}},\"addonResult\":{\"drawResult\":{\"numbers\":[3,0,5,6,8,0,3],\"type\":0,\"description\":null},\"distribution\":[{\"name\":\"7 rätt\",\"winners\":0,\"amount\":\"10000000,00\"},{\"name\":\"6 rätt\",\"winners\":0,\"amount\":\"250000,00\"},{\"name\":\"5 rätt\",\"winners\":3,\"amount\":\"20000,00\"},{\"name\":\"4 rätt\",\"winners\":96,\"amount\":\"2000,00\"},{\"name\":\"3 rätt\",\"winners\":1019,\"amount\":\"200,00\"},{\"name\":\"2 rätt\",\"winners\":10323,\"amount\":\"80,00\"}],\"productName\":\"Joker Onsdag\",\"productId\":13,\"drawNumber\":929,\"currentNetSale\":\"5804070,00\",\"regCloseTime\":\"2021-03-03T17:15:00+01:00\"},\"addonDatePicker\":{\"error\":null,\"requestId\":\"b4fc31e2-1022-44d3-8de5-c695f757cc75\",\"sessionId\":\"[hidden]\",\"deviceId\":\"[hidden]\",\"session\":null,\"sessionUser\":null,\"clientInfo\":null,\"product\":\"joker\",\"live\":false,\"year\":2021,\"month\":3,\"resultDates\":[{\"date\":\"2021-03-03T00:00:00+01:00\",\"openDate\":null,\"closeDate\":null,\"product\":\"jokerwednesday\",\"drawNumber\":929,\"drawState\":null,\"drawStateId\":0},{\"date\":\"2021-03-06T00:00:00+01:00\",\"openDate\":null,\"closeDate\":null,\"product\":\"jokersaturday\",\"drawNumber\":1904,\"drawState\":null,\"drawStateId\":0},{\"date\":\"2021-03-10T00:00:00+01:00\",\"openDate\":null,\"closeDate\":null,\"product\":\"jokerwednesday\",\"drawNumber\":930,\"drawState\":null,\"drawStateId\":0},{\"date\":\"2021-03-13T00:00:00+01:00\",\"openDate\":null,\"closeDate\":null,\"product\":\"jokersaturday\",\"drawNumber\":1905,\"drawState\":null,\"drawStateId\":0},{\"date\":\"2021-03-17T00:00:00+01:00\",\"openDate\":null,\"closeDate\":null,\"product\":\"jokerwednesday\",\"drawNumber\":931,\"drawState\":null,\"drawStateId\":0},{\"date\":\"2021-03-20T00:00:00+01:00\",\"openDate\":null,\"closeDate\":null,\"product\":\"jokersaturday\",\"drawNumber\":1906,\"drawState\":null,\"drawStateId\":0},{\"date\":\"2021-03-24T00:00:00+01:00\",\"openDate\":null,\"closeDate\":null,\"product\":\"jokerwednesday\",\"drawNumber\":932,\"drawState\":null,\"drawStateId\":0},{\"date\":\"2021-03-27T00:00:00+01:00\",\"openDate\":null,\"closeDate\":null,\"product\":\"jokersaturday\",\"drawNumber\":1907,\"drawState\":null,\"drawStateId\":0},{\"date\":\"2021-03-31T00:00:00+02:00\",\"openDate\":null,\"closeDate\":null,\"product\":\"jokerwednesday\",\"drawNumber\":933,\"drawState\":null,\"drawStateId\":0},{\"date\":\"2021-04-03T00:00:00+02:00\",\"openDate\":null,\"closeDate\":null,\"product\":\"jokersaturday\",\"drawNumber\":1908,\"drawState\":null,\"drawStateId\":0}],\"requestInfo\":{\"transportProcessTime\":7,\"backendProcessTime\":5,\"fgwRTT\":10,\"backendModuleProcessTime\":5,\"channel\":\"fgw\",\"elapsedTime\":13,\"apiVersion\":1}}}'"
      ]
     },
     "execution_count": 27,
     "metadata": {},
     "output_type": "execute_result"
    }
   ],
   "source": [
    "# it looks sane, we have to remove the initial bit to have a json\n",
    "el.strip('\\n_svs.lotto.data.resultData=')"
   ]
  },
  {
   "cell_type": "code",
   "execution_count": 28,
   "metadata": {},
   "outputs": [
    {
     "data": {
      "text/plain": [
       "{'result': {'drawResult': [{'drawNumbers': [{'numbers': [28,\n",
       "       2,\n",
       "       31,\n",
       "       25,\n",
       "       6,\n",
       "       23,\n",
       "       4],\n",
       "      'type': 1,\n",
       "      'description': 'Regular numbers'},\n",
       "     {'numbers': [22, 9, 8, 3], 'type': 2, 'description': 'Extra numbers'}],\n",
       "    'type': 1,\n",
       "    'description': 'Lotto1'},\n",
       "   {'drawNumbers': [{'numbers': [26, 22, 34, 33, 8, 32, 31],\n",
       "      'type': 1,\n",
       "      'description': 'Regular numbers'},\n",
       "     {'numbers': [13, 3, 14, 29], 'type': 2, 'description': 'Extra numbers'}],\n",
       "    'type': 2,\n",
       "    'description': 'Lotto2'}],\n",
       "  'distribution': [{'type': 1,\n",
       "    'description': 'Lotto1',\n",
       "    'distribution': [{'name': '7 rätt', 'winners': 0, 'amount': '0,00'},\n",
       "     {'name': '6 rätt + tillägg', 'winners': 9, 'amount': '38178,00'},\n",
       "     {'name': '6 rätt', 'winners': 67, 'amount': '2991,00'},\n",
       "     {'name': '5 rätt', 'winners': 2744, 'amount': '125,00'},\n",
       "     {'name': '4 rätt', 'winners': 41577, 'amount': '23,00'},\n",
       "     {'name': 'Drömvinsten', 'winners': 0, 'amount': '0,00'}]},\n",
       "   {'type': 2,\n",
       "    'description': 'Lotto2',\n",
       "    'distribution': [{'name': '7 rätt', 'winners': 0, 'amount': '0,00'},\n",
       "     {'name': '6 rätt + tillägg', 'winners': 6, 'amount': '52934,00'},\n",
       "     {'name': '6 rätt', 'winners': 55, 'amount': '3368,00'},\n",
       "     {'name': '5 rätt', 'winners': 2642, 'amount': '120,00'},\n",
       "     {'name': '4 rätt', 'winners': 38668, 'amount': '23,00'},\n",
       "     {'name': 'Drömvinsten', 'winners': 0, 'amount': '0,00'}]}],\n",
       "  'productName': 'Lotto Onsdag',\n",
       "  'productId': 11,\n",
       "  'drawNumber': 2114,\n",
       "  'currentNetSale': '15305955,00',\n",
       "  'regCloseTime': '2021-03-03T17:15:00+01:00'},\n",
       " 'datePicker': {'error': None,\n",
       "  'requestId': 'c53fb1a9-e118-4591-8db5-e2c5c23318bf',\n",
       "  'sessionId': '[hidden]',\n",
       "  'deviceId': '[hidden]',\n",
       "  'session': None,\n",
       "  'sessionUser': None,\n",
       "  'clientInfo': None,\n",
       "  'product': 'lotto',\n",
       "  'live': False,\n",
       "  'year': 2021,\n",
       "  'month': 3,\n",
       "  'resultDates': [{'date': '2021-03-03T00:00:00+01:00',\n",
       "    'openDate': None,\n",
       "    'closeDate': None,\n",
       "    'product': 'lottowednesday',\n",
       "    'drawNumber': 2114,\n",
       "    'drawState': None,\n",
       "    'drawStateId': 0},\n",
       "   {'date': '2021-03-06T00:00:00+01:00',\n",
       "    'openDate': None,\n",
       "    'closeDate': None,\n",
       "    'product': 'lottosaturday',\n",
       "    'drawNumber': 2113,\n",
       "    'drawState': None,\n",
       "    'drawStateId': 0},\n",
       "   {'date': '2021-03-10T00:00:00+01:00',\n",
       "    'openDate': None,\n",
       "    'closeDate': None,\n",
       "    'product': 'lottowednesday',\n",
       "    'drawNumber': 2115,\n",
       "    'drawState': None,\n",
       "    'drawStateId': 0},\n",
       "   {'date': '2021-03-13T00:00:00+01:00',\n",
       "    'openDate': None,\n",
       "    'closeDate': None,\n",
       "    'product': 'lottosaturday',\n",
       "    'drawNumber': 2114,\n",
       "    'drawState': None,\n",
       "    'drawStateId': 0},\n",
       "   {'date': '2021-03-17T00:00:00+01:00',\n",
       "    'openDate': None,\n",
       "    'closeDate': None,\n",
       "    'product': 'lottowednesday',\n",
       "    'drawNumber': 2116,\n",
       "    'drawState': None,\n",
       "    'drawStateId': 0},\n",
       "   {'date': '2021-03-20T00:00:00+01:00',\n",
       "    'openDate': None,\n",
       "    'closeDate': None,\n",
       "    'product': 'lottosaturday',\n",
       "    'drawNumber': 2115,\n",
       "    'drawState': None,\n",
       "    'drawStateId': 0},\n",
       "   {'date': '2021-03-24T00:00:00+01:00',\n",
       "    'openDate': None,\n",
       "    'closeDate': None,\n",
       "    'product': 'lottowednesday',\n",
       "    'drawNumber': 2117,\n",
       "    'drawState': None,\n",
       "    'drawStateId': 0},\n",
       "   {'date': '2021-03-27T00:00:00+01:00',\n",
       "    'openDate': None,\n",
       "    'closeDate': None,\n",
       "    'product': 'lottosaturday',\n",
       "    'drawNumber': 2116,\n",
       "    'drawState': None,\n",
       "    'drawStateId': 0},\n",
       "   {'date': '2021-03-31T00:00:00+02:00',\n",
       "    'openDate': None,\n",
       "    'closeDate': None,\n",
       "    'product': 'lottowednesday',\n",
       "    'drawNumber': 2118,\n",
       "    'drawState': None,\n",
       "    'drawStateId': 0},\n",
       "   {'date': '2021-04-03T00:00:00+02:00',\n",
       "    'openDate': None,\n",
       "    'closeDate': None,\n",
       "    'product': 'lottosaturday',\n",
       "    'drawNumber': 2117,\n",
       "    'drawState': None,\n",
       "    'drawStateId': 0}],\n",
       "  'requestInfo': {'transportProcessTime': 3,\n",
       "   'backendProcessTime': 14,\n",
       "   'fgwRTT': 15,\n",
       "   'backendModuleProcessTime': 14,\n",
       "   'channel': 'fgw',\n",
       "   'elapsedTime': 18,\n",
       "   'apiVersion': 1}},\n",
       " 'addonResult': {'drawResult': {'numbers': [3, 0, 5, 6, 8, 0, 3],\n",
       "   'type': 0,\n",
       "   'description': None},\n",
       "  'distribution': [{'name': '7 rätt', 'winners': 0, 'amount': '10000000,00'},\n",
       "   {'name': '6 rätt', 'winners': 0, 'amount': '250000,00'},\n",
       "   {'name': '5 rätt', 'winners': 3, 'amount': '20000,00'},\n",
       "   {'name': '4 rätt', 'winners': 96, 'amount': '2000,00'},\n",
       "   {'name': '3 rätt', 'winners': 1019, 'amount': '200,00'},\n",
       "   {'name': '2 rätt', 'winners': 10323, 'amount': '80,00'}],\n",
       "  'productName': 'Joker Onsdag',\n",
       "  'productId': 13,\n",
       "  'drawNumber': 929,\n",
       "  'currentNetSale': '5804070,00',\n",
       "  'regCloseTime': '2021-03-03T17:15:00+01:00'},\n",
       " 'addonDatePicker': {'error': None,\n",
       "  'requestId': 'b4fc31e2-1022-44d3-8de5-c695f757cc75',\n",
       "  'sessionId': '[hidden]',\n",
       "  'deviceId': '[hidden]',\n",
       "  'session': None,\n",
       "  'sessionUser': None,\n",
       "  'clientInfo': None,\n",
       "  'product': 'joker',\n",
       "  'live': False,\n",
       "  'year': 2021,\n",
       "  'month': 3,\n",
       "  'resultDates': [{'date': '2021-03-03T00:00:00+01:00',\n",
       "    'openDate': None,\n",
       "    'closeDate': None,\n",
       "    'product': 'jokerwednesday',\n",
       "    'drawNumber': 929,\n",
       "    'drawState': None,\n",
       "    'drawStateId': 0},\n",
       "   {'date': '2021-03-06T00:00:00+01:00',\n",
       "    'openDate': None,\n",
       "    'closeDate': None,\n",
       "    'product': 'jokersaturday',\n",
       "    'drawNumber': 1904,\n",
       "    'drawState': None,\n",
       "    'drawStateId': 0},\n",
       "   {'date': '2021-03-10T00:00:00+01:00',\n",
       "    'openDate': None,\n",
       "    'closeDate': None,\n",
       "    'product': 'jokerwednesday',\n",
       "    'drawNumber': 930,\n",
       "    'drawState': None,\n",
       "    'drawStateId': 0},\n",
       "   {'date': '2021-03-13T00:00:00+01:00',\n",
       "    'openDate': None,\n",
       "    'closeDate': None,\n",
       "    'product': 'jokersaturday',\n",
       "    'drawNumber': 1905,\n",
       "    'drawState': None,\n",
       "    'drawStateId': 0},\n",
       "   {'date': '2021-03-17T00:00:00+01:00',\n",
       "    'openDate': None,\n",
       "    'closeDate': None,\n",
       "    'product': 'jokerwednesday',\n",
       "    'drawNumber': 931,\n",
       "    'drawState': None,\n",
       "    'drawStateId': 0},\n",
       "   {'date': '2021-03-20T00:00:00+01:00',\n",
       "    'openDate': None,\n",
       "    'closeDate': None,\n",
       "    'product': 'jokersaturday',\n",
       "    'drawNumber': 1906,\n",
       "    'drawState': None,\n",
       "    'drawStateId': 0},\n",
       "   {'date': '2021-03-24T00:00:00+01:00',\n",
       "    'openDate': None,\n",
       "    'closeDate': None,\n",
       "    'product': 'jokerwednesday',\n",
       "    'drawNumber': 932,\n",
       "    'drawState': None,\n",
       "    'drawStateId': 0},\n",
       "   {'date': '2021-03-27T00:00:00+01:00',\n",
       "    'openDate': None,\n",
       "    'closeDate': None,\n",
       "    'product': 'jokersaturday',\n",
       "    'drawNumber': 1907,\n",
       "    'drawState': None,\n",
       "    'drawStateId': 0},\n",
       "   {'date': '2021-03-31T00:00:00+02:00',\n",
       "    'openDate': None,\n",
       "    'closeDate': None,\n",
       "    'product': 'jokerwednesday',\n",
       "    'drawNumber': 933,\n",
       "    'drawState': None,\n",
       "    'drawStateId': 0},\n",
       "   {'date': '2021-04-03T00:00:00+02:00',\n",
       "    'openDate': None,\n",
       "    'closeDate': None,\n",
       "    'product': 'jokersaturday',\n",
       "    'drawNumber': 1908,\n",
       "    'drawState': None,\n",
       "    'drawStateId': 0}],\n",
       "  'requestInfo': {'transportProcessTime': 7,\n",
       "   'backendProcessTime': 5,\n",
       "   'fgwRTT': 10,\n",
       "   'backendModuleProcessTime': 5,\n",
       "   'channel': 'fgw',\n",
       "   'elapsedTime': 13,\n",
       "   'apiVersion': 1}}}"
      ]
     },
     "execution_count": 28,
     "metadata": {},
     "output_type": "execute_result"
    }
   ],
   "source": [
    "# looks sane, let's try to load it in a dictionary\n",
    "json.loads(el.strip('\\n_svs.lotto.data.resultData='))"
   ]
  },
  {
   "cell_type": "code",
   "execution_count": 29,
   "metadata": {},
   "outputs": [],
   "source": [
    "# good, let's package it in a function\n",
    "def _get_lotto_data(date):\n",
    "    # we format the string from the date\n",
    "    lotto_url = \"https://www.svenskaspel.se/lotto/resultat/{}\".format(date)\n",
    "    r = requests.get(lotto_url)\n",
    "    lotto_h = bs(lotto.text, 'html.parser')\n",
    "    # look for the script, THIS is easy to break    \n",
    "    lotto_selected = lotto_h.select('body > script:nth-child(9)')[0]\n",
    "    data = None\n",
    "    for el in lotto_selected.contents[0].split(';'):\n",
    "        # we use the bit from earlier\n",
    "        if \"resultData\" in el:\n",
    "            data = el\n",
    "            break\n",
    "    if data:\n",
    "        # and SINCE THEY GIVE THE RESULTS even if we give a wrong date, let's check we get the date in the json\n",
    "        if str(date) in data:\n",
    "            return json.loads(data.strip('\\n_svs.lotto.data.resultData='))\n",
    "    "
   ]
  },
  {
   "cell_type": "code",
   "execution_count": 30,
   "metadata": {},
   "outputs": [],
   "source": [
    "# sanity check, we ignore a date w/o draws\n",
    "assert _get_lotto_data('2021-03-02') is None"
   ]
  },
  {
   "cell_type": "code",
   "execution_count": null,
   "metadata": {},
   "outputs": [],
   "source": []
  },
  {
   "cell_type": "code",
   "execution_count": 47,
   "metadata": {},
   "outputs": [],
   "source": [
    "sofa_selector = \"#product-list-605489412918f > li:nth-child(1) > script\""
   ]
  },
  {
   "cell_type": "code",
   "execution_count": 48,
   "metadata": {},
   "outputs": [
    {
     "data": {
      "text/plain": [
       "'<!DOCTYPE html>\\r\\n<!--[if IE 9]>\\r\\n<html class=\"no-js lt-ie10\" lang=\"en\"\\r\\n      xmlns=\"http://www.w3.org/1999/xhtml\"> <![endif]-->\\r\\n<!--[if gt IE 9]><!-->\\r\\n<html class=\"no-js\" lang=\"en\" xmlns=\"http://www.w3.org/1999/xhtml\">\\r\\n<!--<![endif]-->\\r\\n<!--[if !IE]>\\r\\n<html class=\"no-js\" lang=\"en\" xmlns=\"http://www.w3.org/1999/xhtml\"><![endif]-->\\r\\n<!-- @todo added fonts-loaded to avoid jumping on fonts, improve fallback  -->\\r\\n\\r\\n<head >\\r\\n  <!--[if lte IE 9]>\\r\\n  <meta http-equiv=\"X-UA-Compatible\" content=\"IE=9\">\\r\\n  <![endif]-->\\r\\n  <meta charset=\"UTF-8\"/>\\r\\n  <meta name=\"viewport\" content=\"width=device-width, initial-scale=1.0\">\\r\\n  <meta name=\"referrer\" content=\"unsafe-url\">\\r\\n  <title>SOFAS - High quality designer SOFAS | Architonic</title>\\r\\n  <meta name=\"description\" content=\"Designer SOFAS from international manufacturers ✓ detailled info ✓ high-resolution images ✓ CADs ✓ catalogues ✓ find your nearest dealer.\"/>\\r\\n  <meta name=\"robots\" content=\"noindex,follow\"/>\\r\\n  <meta name=\"google-site-verificatio'"
      ]
     },
     "execution_count": 48,
     "metadata": {},
     "output_type": "execute_result"
    }
   ],
   "source": [
    "url =  \"https://www.architonic.com/en/products/sofas/0/3238218/86\"\n",
    "page = requests.get(url)\n",
    "page.text[:1000]"
   ]
  },
  {
   "cell_type": "code",
   "execution_count": 49,
   "metadata": {},
   "outputs": [],
   "source": [
    "page_h = bs(page.text, 'html.parser')"
   ]
  },
  {
   "cell_type": "code",
   "execution_count": 50,
   "metadata": {},
   "outputs": [
    {
     "name": "stdout",
     "output_type": "stream",
     "text": [
      "#product-list-605489412918f > li:nth-child(0) > script\n",
      "[]\n",
      "#product-list-605489412918f > li:nth-child(1) > script\n",
      "[<script type=\"application/ld+json\">\n",
      "            {\"@context\":\"http:\\/\\/schema.org\\/\",\"@type\":\"Product\",\"name\":\"90 Deegree\",\"image\":\"https:\\/\\/image.architonic.com\\/img_pro1-6\\/156\\/1643\\/90deegree-produkt-00-sq.jpg\",\"description\":\"90 Deegree | Sofas | SMV Sitz- &amp; Objektm\\u00f6bel\",\"productID\":1561643,\"url\":\"https:\\/\\/www.architonic.com\\/en\\/product\\/smv-sitz-objektmobel-90-deegree\\/1561643\",\"brand\":{\"@type\":\"Brand\",\"name\":\"SMV Sitz- &amp; Objektm\\u00f6bel\"}}          \n",
      "        </script>]\n",
      "#product-list-605489412918f > li:nth-child(2) > script\n",
      "[<script type=\"application/ld+json\">\n",
      "            {\"@context\":\"http:\\/\\/schema.org\\/\",\"@type\":\"Product\",\"name\":\"Blanket sofa\",\"image\":\"https:\\/\\/image.architonic.com\\/img_pro1-6\\/134\\/0656\\/blanket-dark-grey-2-sq.jpg\",\"description\":\"Blanket sofa | Sofas | Materia\",\"productID\":1340656,\"url\":\"https:\\/\\/www.architonic.com\\/en\\/product\\/materia-blanket-sofa\\/1340656\",\"brand\":{\"@type\":\"Brand\",\"name\":\"Materia\"}}          \n",
      "        </script>]\n",
      "#product-list-605489412918f > li:nth-child(3) > script\n",
      "[<script type=\"application/ld+json\">\n",
      "            {\"@context\":\"http:\\/\\/schema.org\\/\",\"@type\":\"Product\",\"name\":\"Rvier Must Flow\",\"image\":\"https:\\/\\/image.architonic.com\\/img_pro1-6\\/145\\/8495\\/river-must-flow-river-must-flow-small-sq.jpg\",\"description\":\"Rvier Must Flow | Sofas | sixinch\",\"productID\":1458495,\"url\":\"https:\\/\\/www.architonic.com\\/en\\/product\\/sixinch-rvier-must-flow\\/1458495\",\"brand\":{\"@type\":\"Brand\",\"name\":\"sixinch\"}}          \n",
      "        </script>]\n",
      "#product-list-605489412918f > li:nth-child(4) > script\n",
      "[<script type=\"application/ld+json\">\n",
      "            {\"@context\":\"http:\\/\\/schema.org\\/\",\"@type\":\"Product\",\"name\":\"Carrera\",\"image\":\"https:\\/\\/image.architonic.com\\/img_pro1-6\\/102\\/9668\\/carreragr_sq.jpg\",\"description\":\"Carrera | Sofas | BBB emmebonacina\",\"productID\":1029668,\"url\":\"https:\\/\\/www.architonic.com\\/en\\/product\\/bbb-emmebonacina-carrera\\/1029668\",\"brand\":{\"@type\":\"Brand\",\"name\":\"BBB emmebonacina\"}}          \n",
      "        </script>]\n",
      "#product-list-605489412918f > li:nth-child(5) > script\n",
      "[<script type=\"application/ld+json\">\n",
      "            {\"@context\":\"http:\\/\\/schema.org\\/\",\"@type\":\"Product\",\"name\":\"1745 sofa\",\"image\":\"https:\\/\\/image.architonic.com\\/img_pro1-6\\/153\\/3365\\/1745-sofa-02-sq.jpg\",\"description\":\"1745 sofa | Sofas | Tecni Nova\",\"productID\":1533365,\"url\":\"https:\\/\\/www.architonic.com\\/en\\/product\\/tecni-nova-1745-sofa\\/1533365\",\"brand\":{\"@type\":\"Brand\",\"name\":\"Tecni Nova\"}}          \n",
      "        </script>]\n",
      "#product-list-605489412918f > li:nth-child(6) > script\n",
      "[<script type=\"application/ld+json\">\n",
      "            {\"@context\":\"http:\\/\\/schema.org\\/\",\"@type\":\"Product\",\"name\":\"Esedra 3 seater high back sofa\",\"image\":\"https:\\/\\/image.architonic.com\\/img_pro1-6\\/153\\/2804\\/esedra-15865-copia-sq.jpg\",\"description\":\"Esedra 3 seater high back sofa | Sofas | Ethimo\",\"productID\":1532804,\"url\":\"https:\\/\\/www.architonic.com\\/en\\/product\\/ethimo-esedra-3-seater-high-back-sofa\\/1532804\",\"brand\":{\"@type\":\"Brand\",\"name\":\"Ethimo\"}}          \n",
      "        </script>]\n",
      "#product-list-605489412918f > li:nth-child(7) > script\n",
      "[<script type=\"application/ld+json\">\n",
      "            {\"@context\":\"http:\\/\\/schema.org\\/\",\"@type\":\"Product\",\"name\":\"EFG InTouch\",\"image\":\"https:\\/\\/image.architonic.com\\/img_pro1-6\\/118\\/5937\\/intouch-efg010589-01-sq.jpg\",\"description\":\"EFG InTouch | Sofas | EFG\",\"productID\":1185937,\"url\":\"https:\\/\\/www.architonic.com\\/en\\/product\\/efg-efg-intouch\\/1185937\",\"brand\":{\"@type\":\"Brand\",\"name\":\"EFG\"}}          \n",
      "        </script>]\n",
      "#product-list-605489412918f > li:nth-child(8) > script\n",
      "[<script type=\"application/ld+json\">\n",
      "            {\"@context\":\"http:\\/\\/schema.org\\/\",\"@type\":\"Product\",\"name\":\"Square 3 Seater 2 arm\",\"image\":\"https:\\/\\/image.architonic.com\\/img_pro1-6\\/119\\/7770\\/square-3-seat-2-arm-zwart-sq.jpg\",\"description\":\"Square 3 Seater 2 arm | Sofas | Design2Chill\",\"productID\":1197770,\"url\":\"https:\\/\\/www.architonic.com\\/en\\/product\\/design2chill-square-3-seater-2-arm\\/1197770\",\"brand\":{\"@type\":\"Brand\",\"name\":\"Design2Chill\"}}          \n",
      "        </script>]\n",
      "#product-list-605489412918f > li:nth-child(9) > script\n",
      "[<script type=\"application/ld+json\">\n",
      "            {\"@context\":\"http:\\/\\/schema.org\\/\",\"@type\":\"Product\",\"name\":\"Passion\",\"image\":\"https:\\/\\/image.architonic.com\\/img_pro1-6\\/133\\/3267\\/passion-10512-013-sq.jpg\",\"description\":\"Passion | Sofas | Raun\",\"productID\":1333267,\"url\":\"https:\\/\\/www.architonic.com\\/en\\/product\\/raun-passion\\/1333267\",\"brand\":{\"@type\":\"Brand\",\"name\":\"Raun\"}}          \n",
      "        </script>]\n"
     ]
    }
   ],
   "source": [
    "selector_model = \"#product-list-605489412918f > li:nth-child({}) > script\"\n",
    "for i in range(10):\n",
    "    selector = selector_model.format(i)\n",
    "    print(selector)\n",
    "    print(page_h.select(selector))"
   ]
  },
  {
   "cell_type": "code",
   "execution_count": 51,
   "metadata": {},
   "outputs": [
    {
     "data": {
      "text/plain": [
       "[<script type=\"application/ld+json\">\n",
       "             {\"@context\":\"http:\\/\\/schema.org\\/\",\"@type\":\"Product\",\"name\":\"Passion\",\"image\":\"https:\\/\\/image.architonic.com\\/img_pro1-6\\/133\\/3267\\/passion-10512-013-sq.jpg\",\"description\":\"Passion | Sofas | Raun\",\"productID\":1333267,\"url\":\"https:\\/\\/www.architonic.com\\/en\\/product\\/raun-passion\\/1333267\",\"brand\":{\"@type\":\"Brand\",\"name\":\"Raun\"}}          \n",
       "         </script>]"
      ]
     },
     "execution_count": 51,
     "metadata": {},
     "output_type": "execute_result"
    }
   ],
   "source": [
    "page_h.select(selector)"
   ]
  },
  {
   "cell_type": "code",
   "execution_count": 52,
   "metadata": {},
   "outputs": [
    {
     "data": {
      "text/plain": [
       "'<ul class=\"product-list product-block-grid\" data-banner-row=\"4\" data-request-uri=\"en/action\" data-return-url=\"/en/products/sofas/0/3238218/86\" id=\"product-list-605489412918f\">\\n<li class=\"product-overview\">\\n<!--  Structured data JSON -->\\n<script type=\"application/ld+json\">\\n            {\"@context\":\"http:\\\\/\\\\/schema.org\\\\/\",\"@type\":\"Product\",\"name\":\"90 Deegree\",\"image\":\"https:\\\\/\\\\/image.architonic.com\\\\/img_pro1-6\\\\/156\\\\/1643\\\\/90deegree-produkt-00-sq.jpg\",\"description\":\"90 Deegree | Sofas | SMV Sitz- &a'"
      ]
     },
     "execution_count": 52,
     "metadata": {},
     "output_type": "execute_result"
    }
   ],
   "source": [
    "s = \"#product-list-center-content > div.center-content-list.row > div > ul\"\n",
    "# s = \"#product-list-center-content > div.center-content-list.row\"\n",
    "str(page_h.select(s)[0])[:500]"
   ]
  },
  {
   "cell_type": "code",
   "execution_count": 54,
   "metadata": {},
   "outputs": [
    {
     "data": {
      "text/plain": [
       "'product-list-605489412918f'"
      ]
     },
     "execution_count": 54,
     "metadata": {},
     "output_type": "execute_result"
    }
   ],
   "source": [
    "selected = page_h.select(s)[0]\n",
    "selected.get('id')"
   ]
  },
  {
   "cell_type": "code",
   "execution_count": 55,
   "metadata": {},
   "outputs": [
    {
     "data": {
      "text/plain": [
       "<script type=\"application/ld+json\">\n",
       "            {\"@context\":\"http:\\/\\/schema.org\\/\",\"@type\":\"Product\",\"name\":\"Passion\",\"image\":\"https:\\/\\/image.architonic.com\\/img_pro1-6\\/133\\/3267\\/passion-10512-013-sq.jpg\",\"description\":\"Passion | Sofas | Raun\",\"productID\":1333267,\"url\":\"https:\\/\\/www.architonic.com\\/en\\/product\\/raun-passion\\/1333267\",\"brand\":{\"@type\":\"Brand\",\"name\":\"Raun\"}}          \n",
       "        </script>"
      ]
     },
     "execution_count": 55,
     "metadata": {},
     "output_type": "execute_result"
    }
   ],
   "source": [
    "#product-list-60544be1e6a25 > li:nth-child(1) > script\n",
    "selected = page_h.select(selector)[0]\n",
    "selected"
   ]
  },
  {
   "cell_type": "code",
   "execution_count": 56,
   "metadata": {},
   "outputs": [
    {
     "data": {
      "text/plain": [
       "['\\n            {\"@context\":\"http:\\\\/\\\\/schema.org\\\\/\",\"@type\":\"Product\",\"name\":\"Passion\",\"image\":\"https:\\\\/\\\\/image.architonic.com\\\\/img_pro1-6\\\\/133\\\\/3267\\\\/passion-10512-013-sq.jpg\",\"description\":\"Passion | Sofas | Raun\",\"productID\":1333267,\"url\":\"https:\\\\/\\\\/www.architonic.com\\\\/en\\\\/product\\\\/raun-passion\\\\/1333267\",\"brand\":{\"@type\":\"Brand\",\"name\":\"Raun\"}}          \\n        ']"
      ]
     },
     "execution_count": 56,
     "metadata": {},
     "output_type": "execute_result"
    }
   ],
   "source": [
    "selected.contents"
   ]
  },
  {
   "cell_type": "code",
   "execution_count": 57,
   "metadata": {},
   "outputs": [
    {
     "data": {
      "text/plain": [
       "{'@context': 'http://schema.org/',\n",
       " '@type': 'Product',\n",
       " 'name': 'Passion',\n",
       " 'image': 'https://image.architonic.com/img_pro1-6/133/3267/passion-10512-013-sq.jpg',\n",
       " 'description': 'Passion | Sofas | Raun',\n",
       " 'productID': 1333267,\n",
       " 'url': 'https://www.architonic.com/en/product/raun-passion/1333267',\n",
       " 'brand': {'@type': 'Brand', 'name': 'Raun'}}"
      ]
     },
     "execution_count": 57,
     "metadata": {},
     "output_type": "execute_result"
    }
   ],
   "source": [
    "json.loads(selected.contents[0])"
   ]
  },
  {
   "cell_type": "code",
   "execution_count": 99,
   "metadata": {},
   "outputs": [
    {
     "data": {
      "text/plain": [
       "4"
      ]
     },
     "execution_count": 99,
     "metadata": {},
     "output_type": "execute_result"
    }
   ],
   "source": [
    "# let's try again to get the results for 15 days:\n",
    "RANGE = 15\n",
    "data_dict = {}\n",
    "\n",
    "for i in range(RANGE):\n",
    "    date = datetime.date.today() - datetime.timedelta(days=i)\n",
    "    data = _get_lotto_data(date)\n",
    "    if data:\n",
    "        data_dict[str(date)] = data\n",
    "len(data_dict)"
   ]
  },
  {
   "cell_type": "code",
   "execution_count": 100,
   "metadata": {},
   "outputs": [],
   "source": [
    "# it looks sane"
   ]
  },
  {
   "cell_type": "code",
   "execution_count": 101,
   "metadata": {},
   "outputs": [
    {
     "data": {
      "text/plain": [
       "'<!DOCTYPE html>\\r\\n<!--[if IE 9]>\\r\\n<html class=\"no-js lt-ie10\" lang=\"en\"\\r\\n      xmlns=\"http://www.w3.org/1999/xhtml\"> <![endif]-->\\r\\n<!--[if gt IE 9]><!-->\\r\\n<html class=\"no-js\" lang=\"en\" xmlns=\"http://www.w3.org/1999/xhtml\">\\r\\n<!--<![endif]-->\\r\\n<!--[if !IE]>\\r\\n<html class=\"no-js\" lang=\"en\" xmlns=\"http://www.w3.org/1999/xhtml\"><![endif]-->\\r\\n<!-- @todo added fonts-loaded to avoid jumping on fonts, improve fallback  -->\\r\\n\\r\\n<head >\\r\\n  <!--[if lte IE 9]>\\r\\n  <meta http-equiv=\"X-UA-Compatible\" content=\"IE=9\">\\r\\n  <![endif]-->\\r\\n  <meta charset=\"UTF-8\"/>\\r\\n  <meta name=\"viewport\" content=\"width=device-width, initial-scale=1.0\">\\r\\n  <meta name=\"referrer\" content=\"unsafe-url\">\\r\\n  <title>SOFAS - High quality designer SOFAS | Architonic</title>\\r\\n  <meta name=\"description\" content=\"Designer SOFAS from international manufacturers ✓ detailled info ✓ high-resolution images ✓ CADs ✓ catalogues ✓ find your nearest dealer.\"/>\\r\\n  <meta name=\"robots\" content=\"noindex,follow\"/>\\r\\n  <meta name=\"google-site-verificatio'"
      ]
     },
     "execution_count": 101,
     "metadata": {},
     "output_type": "execute_result"
    }
   ],
   "source": [
    "# let's play with sofas now\n",
    "url =  \"https://www.architonic.com/en/products/sofas/0/3238218/86\"\n",
    "\n",
    "page = requests.get(url)\n",
    "page.text[:1000]"
   ]
  },
  {
   "cell_type": "code",
   "execution_count": 102,
   "metadata": {},
   "outputs": [
    {
     "data": {
      "text/plain": [
       "159"
      ]
     },
     "execution_count": 102,
     "metadata": {},
     "output_type": "execute_result"
    }
   ],
   "source": [
    "# more weird stuff, they embed the json in the webpage, as a script...\n",
    "# #product-list-605737a838aea > li:nth-child(1) > script\n",
    "page_h = bs(page.text, 'html.parser')\n",
    "selector = \"#product-list-605737a838aea > li:nth-child(1) > script\"\n",
    "len(page_h.find_all(\"script\"))"
   ]
  },
  {
   "cell_type": "code",
   "execution_count": 109,
   "metadata": {},
   "outputs": [
    {
     "name": "stdout",
     "output_type": "stream",
     "text": [
      "#product-list-605737a838aea > li:nth-child(1) > script\n",
      "[<script type=\"application/ld+json\">\n",
      "            {\"@context\":\"http:\\/\\/schema.org\\/\",\"@type\":\"Product\",\"name\":\"Giorgio Sofa-bed\",\"image\":\"https:\\/\\/image.architonic.com\\/img_pro1-6\\/108\\/1121\\/giorgio-1-02-sq.jpg\",\"description\":\"Giorgio Sofa-bed | Sofas | die Collection\",\"productID\":1081121,\"url\":\"https:\\/\\/www.architonic.com\\/en\\/product\\/die-collection-giorgio-sofa-bed\\/1081121\",\"brand\":{\"@type\":\"Brand\",\"name\":\"die Collection\"}}          \n",
      "        </script>]\n",
      "#product-list-605737a838aea > li:nth-child(2) > script\n",
      "[<script type=\"application/ld+json\">\n",
      "            {\"@context\":\"http:\\/\\/schema.org\\/\",\"@type\":\"Product\",\"name\":\"Finsbury 3 Seater Sofa\",\"image\":\"https:\\/\\/image.architonic.com\\/img_pro1-6\\/115\\/8604\\/finsbury-3-seat-sofa-02-sq.jpg\",\"description\":\"Finsbury 3 Seater Sofa | Sofas | Assemblyroom\",\"productID\":1158604,\"url\":\"https:\\/\\/www.architonic.com\\/en\\/product\\/assemblyroom-finsbury-3-seater-sofa\\/1158604\",\"brand\":{\"@type\":\"Brand\",\"name\":\"Assemblyroom\"}}          \n",
      "        </script>]\n",
      "#product-list-605737a838aea > li:nth-child(3) > script\n",
      "[<script type=\"application/ld+json\">\n",
      "            {\"@context\":\"http:\\/\\/schema.org\\/\",\"@type\":\"Product\",\"name\":\"DV350-COLIBRi\\u0300_FAMILY REFUGE\",\"image\":\"https:\\/\\/image.architonic.com\\/pro1-3\\/20117527\\/dv350-colibri-family-refuge-set-01-01-pro-sq-arcit18.jpg\",\"description\":\"DV350-COLIBRi\\u0300_FAMILY REFUGE | Sofas | DVO\",\"productID\":20117527,\"url\":\"https:\\/\\/www.architonic.com\\/en\\/product\\/dvo-dv350-colibri-family-refuge\\/20117527\",\"brand\":{\"@type\":\"Brand\",\"name\":\"DVO\"}}          \n",
      "        </script>]\n",
      "#product-list-605737a838aea > li:nth-child(4) > script\n",
      "[<script type=\"application/ld+json\">\n",
      "            {\"@context\":\"http:\\/\\/schema.org\\/\",\"@type\":\"Product\",\"name\":\"Happy sofa\",\"image\":\"https:\\/\\/image.architonic.com\\/img_pro1-6\\/113\\/8375\\/Happy-2-sq.jpg\",\"description\":\"Happy sofa | Sofas | Swedese\",\"productID\":1138375,\"url\":\"https:\\/\\/www.architonic.com\\/en\\/product\\/swedese-happy-sofa\\/1138375\",\"brand\":{\"@type\":\"Brand\",\"name\":\"Swedese\"}}          \n",
      "        </script>]\n",
      "#product-list-605737a838aea > li:nth-child(5) > script\n",
      "[<script type=\"application/ld+json\">\n",
      "            {\"@context\":\"http:\\/\\/schema.org\\/\",\"@type\":\"Product\",\"name\":\"Infinity back end module left\",\"image\":\"https:\\/\\/image.architonic.com\\/img_pro1-6\\/125\\/0814\\/infinity-xl-corner-left-sq.jpg\",\"description\":\"Infinity back end module left | Sofas | Ethimo\",\"productID\":1250814,\"url\":\"https:\\/\\/www.architonic.com\\/en\\/product\\/ethimo-infinity-back-end-module-left\\/1250814\",\"brand\":{\"@type\":\"Brand\",\"name\":\"Ethimo\"}}          \n",
      "        </script>]\n"
     ]
    }
   ],
   "source": [
    "# 159 scripts, I probably don't want to go by hand... let's use the selector\n",
    "selector_model = \"#product-list-605737a838aea > li:nth-child({}) > script\"\n",
    "for i in range(5):\n",
    "    selector = selector_model.format(i + 1)\n",
    "    # they start counting from 1... weird for me\n",
    "    print(selector)\n",
    "    print(page_h.select(selector))\n",
    "    \n",
    "# let's look"
   ]
  },
  {
   "cell_type": "markdown",
   "metadata": {},
   "source": [
    "When I run it, what I see is:\n",
    "\n",
    "```\n",
    "#product-list-605737a838aea > li:nth-child(1) > script\n",
    "[<script type=\"application/ld+json\">\n",
    "            {\"@context\":\"http:\\/\\/schema.org\\/\",\"@type\":\"Product\",\"name\":\"Giorgio Sofa-bed\",\"image\":\"https:\\/\\/image.architonic.com\\/img_pro1-6\\/108\\/1121\\/giorgio-1-02-sq.jpg\",\"description\":\"Giorgio Sofa-bed | Sofas | die Collection\",\"productID\":1081121,\"url\":\"https:\\/\\/www.architonic.com\\/en\\/product\\/die-collection-giorgio-sofa-bed\\/1081121\",\"brand\":{\"@type\":\"Brand\",\"name\":\"die Collection\"}}          \n",
    "        </script>]\n",
    "#product-list-605737a838aea > li:nth-child(2) > script\n",
    "[<script type=\"application/ld+json\">\n",
    "            {\"@context\":\"http:\\/\\/schema.org\\/\",\"@type\":\"Product\",\"name\":\"Finsbury 3 Seater Sofa\",\"image\":\"https:\\/\\/image.architonic.com\\/img_pro1-6\\/115\\/8604\\/finsbury-3-seat-sofa-02-sq.jpg\",\"description\":\"Finsbury 3 Seater Sofa | Sofas | Assemblyroom\",\"productID\":1158604,\"url\":\"https:\\/\\/www.architonic.com\\/en\\/product\\/assemblyroom-finsbury-3-seater-sofa\\/1158604\",\"brand\":{\"@type\":\"Brand\",\"name\":\"Assemblyroom\"}}          \n",
    "        </script>]\n",
    "#product-list-605737a838aea > li:nth-child(3) > script\n",
    "[<script type=\"application/ld+json\">\n",
    "            {\"@context\":\"http:\\/\\/schema.org\\/\",\"@type\":\"Product\",\"name\":\"DV350-COLIBRi\\u0300_FAMILY REFUGE\",\"image\":\"https:\\/\\/image.architonic.com\\/pro1-3\\/20117527\\/dv350-colibri-family-refuge-set-01-01-pro-sq-arcit18.jpg\",\"description\":\"DV350-COLIBRi\\u0300_FAMILY REFUGE | Sofas | DVO\",\"productID\":20117527,\"url\":\"https:\\/\\/www.architonic.com\\/en\\/product\\/dvo-dv350-colibri-family-refuge\\/20117527\",\"brand\":{\"@type\":\"Brand\",\"name\":\"DVO\"}}          \n",
    "        </script>]\n",
    "#product-list-605737a838aea > li:nth-child(4) > script\n",
    "[<script type=\"application/ld+json\">\n",
    "            {\"@context\":\"http:\\/\\/schema.org\\/\",\"@type\":\"Product\",\"name\":\"Happy sofa\",\"image\":\"https:\\/\\/image.architonic.com\\/img_pro1-6\\/113\\/8375\\/Happy-2-sq.jpg\",\"description\":\"Happy sofa | Sofas | Swedese\",\"productID\":1138375,\"url\":\"https:\\/\\/www.architonic.com\\/en\\/product\\/swedese-happy-sofa\\/1138375\",\"brand\":{\"@type\":\"Brand\",\"name\":\"Swedese\"}}          \n",
    "        </script>]\n",
    "#product-list-605737a838aea > li:nth-child(5) > script\n",
    "[<script type=\"application/ld+json\">\n",
    "            {\"@context\":\"http:\\/\\/schema.org\\/\",\"@type\":\"Product\",\"name\":\"Infinity back end module left\",\"image\":\"https:\\/\\/image.architonic.com\\/img_pro1-6\\/125\\/0814\\/infinity-xl-corner-left-sq.jpg\",\"description\":\"Infinity back end module left | Sofas | Ethimo\",\"productID\":1250814,\"url\":\"https:\\/\\/www.architonic.com\\/en\\/product\\/ethimo-infinity-back-end-module-left\\/1250814\",\"brand\":{\"@type\":\"Brand\",\"name\":\"Ethimo\"}}          \n",
    "        </script>]\n",
    "```\n",
    "buf it YOU run it now, it will look like:\n",
    "\n",
    "```\n",
    "#product-list-60508dc2d3ec8 > li:nth-child(0) > script\n",
    "[]\n",
    "#product-list-60508dc2d3ec8 > li:nth-child(1) > script\n",
    "[]\n",
    "#product-list-60508dc2d3ec8 > li:nth-child(2) > script\n",
    "[]\n",
    "#product-list-60508dc2d3ec8 > li:nth-child(3) > script\n",
    "[]\n",
    "#product-list-60508dc2d3ec8 > li:nth-child(4) > script\n",
    "[]\n",
    "#product-list-60508dc2d3ec8 > li:nth-child(5) > script\n",
    "[]\n",
    "#product-list-60508dc2d3ec8 > li:nth-child(6) > script\n",
    "[]\n",
    "#product-list-60508dc2d3ec8 > li:nth-child(7) > script\n",
    "[]\n",
    "#product-list-60508dc2d3ec8 > li:nth-child(8) > script\n",
    "[]\n",
    "#product-list-60508dc2d3ec8 > li:nth-child(9) > script\n",
    "[]\n",
    "```\n",
    "\n",
    "Because...\n"
   ]
  },
  {
   "cell_type": "code",
   "execution_count": 110,
   "metadata": {},
   "outputs": [],
   "source": [
    "# it looks sane...\n",
    "# with a problem: it would NOT work in another day!\n",
    "# in the selector\n",
    "# #product-list-605737a838aea > li:nth-child(1) > script\n",
    "# the part after product list CHANGES EVERY DAY\n",
    "# I guess it is a (weak) protection against scraping... let's break it"
   ]
  },
  {
   "cell_type": "code",
   "execution_count": 111,
   "metadata": {},
   "outputs": [
    {
     "data": {
      "text/plain": [
       "'<ul class=\"product-list product-block-grid\" data-banner-row=\"4\" data-request-uri=\"en/action\" data-return-url=\"/en/products/sofas/0/3238218/86\" id=\"product-list-605737a838aea\">\\n<li class=\"product-overview\">\\n<!--  Structured data JSON -->\\n<script type=\"application/ld+json\">\\n            {\"@context\":\"http:\\\\/\\\\/schema.org\\\\/\",\"@type\":\"Product\",\"name\":\"Giorgio Sofa-bed\",\"image\":\"https:\\\\/\\\\/image.architonic.com\\\\/img_pro1-6\\\\/108\\\\/1121\\\\/giorgio-1-02-sq.jpg\",\"description\":\"Giorgio Sofa-bed | Sofas | die Coll'"
      ]
     },
     "execution_count": 111,
     "metadata": {},
     "output_type": "execute_result"
    }
   ],
   "source": [
    "# let's find a bit without that generated ID, and extract it\n",
    "s = \"#product-list-center-content > div.center-content-list.row > div > ul\"\n",
    "str(page_h.select(s)[0])[:500]"
   ]
  },
  {
   "cell_type": "code",
   "execution_count": 114,
   "metadata": {},
   "outputs": [
    {
     "data": {
      "text/plain": [
       "'<ul class=\"product-list product-block-grid\" data-banner-row=\"4\" data-request-uri=\"en/action\" data-return-url=\"/en/products/sofas/0/3238218/86\" id=\"product-list-605737a838aea\">\\n<li class=\"product-overview\">\\n<!--  Structured data JSON -->\\n<script type=\"application/ld+json\">\\n            {\"@context\":\"http:\\\\/\\\\/schema.org\\\\/\",\"@type\":\"Product\",\"name\":\"Giorgio Sofa-bed\",\"image\":\"https:\\\\/\\\\/image.architonic.com\\\\/img_pro1-6\\\\/108\\\\/1121\\\\/giorgio-1-02-sq.jpg\",\"description\":\"Giorgio Sofa-bed | Sofas | die Collection\",\"productID\":1081121,\"url\":\"https:\\\\/\\\\/www.architonic.com\\\\/en\\\\/product\\\\/die-collection-giorgio-sofa-bed\\\\/1081121\",\"brand\":{\"@type\":\"Brand\",\"name\":\"die Collection\"}}          \\n        </script>\\n<div class=\"product-overview-container\">\\n<a class=\"hidden-title-link prediction-item\" data-item-id=\"1081121\" data-item-type=\"product\" data-log-type=\"log_click_object\" data-navi-area-id=\"products\" data-navi-group-id=\"3238218\" href=\"https://www.architonic.com/en/product/die-collection-giorgio-sofa-bed/'"
      ]
     },
     "execution_count": 114,
     "metadata": {},
     "output_type": "execute_result"
    }
   ],
   "source": [
    "selected = page_h.select(s)[0]\n",
    "str(selected)[:1000]"
   ]
  },
  {
   "cell_type": "code",
   "execution_count": 115,
   "metadata": {},
   "outputs": [
    {
     "data": {
      "text/plain": [
       "'product-list-605737a838aea'"
      ]
     },
     "execution_count": 115,
     "metadata": {},
     "output_type": "execute_result"
    }
   ],
   "source": [
    "# neat, what we want is in the ID\n",
    "selected.get('id')"
   ]
  },
  {
   "cell_type": "code",
   "execution_count": 116,
   "metadata": {},
   "outputs": [
    {
     "data": {
      "text/plain": [
       "'#product-list-605737a838aea > li:nth-child(1) > script'"
      ]
     },
     "execution_count": 116,
     "metadata": {},
     "output_type": "execute_result"
    }
   ],
   "source": [
    "# let's build our selector\n",
    "selector = \"#{} > li:nth-child(1) > script\".format(selected.get('id'))\n",
    "selector"
   ]
  },
  {
   "cell_type": "code",
   "execution_count": 117,
   "metadata": {},
   "outputs": [
    {
     "data": {
      "text/plain": [
       "<script type=\"application/ld+json\">\n",
       "            {\"@context\":\"http:\\/\\/schema.org\\/\",\"@type\":\"Product\",\"name\":\"Giorgio Sofa-bed\",\"image\":\"https:\\/\\/image.architonic.com\\/img_pro1-6\\/108\\/1121\\/giorgio-1-02-sq.jpg\",\"description\":\"Giorgio Sofa-bed | Sofas | die Collection\",\"productID\":1081121,\"url\":\"https:\\/\\/www.architonic.com\\/en\\/product\\/die-collection-giorgio-sofa-bed\\/1081121\",\"brand\":{\"@type\":\"Brand\",\"name\":\"die Collection\"}}          \n",
       "        </script>"
      ]
     },
     "execution_count": 117,
     "metadata": {},
     "output_type": "execute_result"
    }
   ],
   "source": [
    "# let's try again\n",
    "selected = page_h.select(selector)[0]\n",
    "selected"
   ]
  },
  {
   "cell_type": "code",
   "execution_count": 118,
   "metadata": {},
   "outputs": [
    {
     "data": {
      "text/plain": [
       "{'@context': 'http://schema.org/',\n",
       " '@type': 'Product',\n",
       " 'name': 'Giorgio Sofa-bed',\n",
       " 'image': 'https://image.architonic.com/img_pro1-6/108/1121/giorgio-1-02-sq.jpg',\n",
       " 'description': 'Giorgio Sofa-bed | Sofas | die Collection',\n",
       " 'productID': 1081121,\n",
       " 'url': 'https://www.architonic.com/en/product/die-collection-giorgio-sofa-bed/1081121',\n",
       " 'brand': {'@type': 'Brand', 'name': 'die Collection'}}"
      ]
     },
     "execution_count": 118,
     "metadata": {},
     "output_type": "execute_result"
    }
   ],
   "source": [
    "json.loads(selected.contents[0])"
   ]
  },
  {
   "cell_type": "code",
   "execution_count": 119,
   "metadata": {},
   "outputs": [],
   "source": [
    "# and now we could package it in a function, and a good loop, going throgh all the pages, and all the sofas"
   ]
  },
  {
   "cell_type": "code",
   "execution_count": 157,
   "metadata": {},
   "outputs": [
    {
     "data": {
      "text/plain": [
       "'\\ufeff\\r\\n\\r\\n        <script type=\"application/ld+json\">\\r\\n          {\"@context\":\"http://schema.org\",\"@type\":\"ItemList\",\"itemListElement\":[{\"@type\":\"ListItem\",\"url\":\"https://www.ica.se/recept/lime-och-ingefarsmarinerad-blomkal-och-linssallad-719671/\",\"position\":1},{\"@type\":\"ListItem\",\"url\":\"https://www.ica.se/recept/tahini-592915/\",\"position\":2},{\"@type\":\"ListItem\",\"url\":\"https://www.ica.se/recept/kryddig-tomatsas-717931/\",\"position\":3},{\"@type\":\"ListItem\",\"url\":\"https://www.ica.se/recept/mole-paste-mexikansk-kryddblandning-722752/\",\"position\":4},{\"@type\":\"ListItem\",\"url\":\"https://www.ica.se/recept/tomatsas-grundrecept-722161/\",\"position\":5},{\"@type\":\"ListItem\",\"url\":\"https://www.ica.se/recept/guldmjolk-721832/\",\"position\":6},{\"@type\":\"ListItem\",\"url\":\"https://www.ica.se/recept/kramig-risoni-med-spenat-mynta-och-arter-722470/\",\"position\":7},{\"@type\":\"ListItem\",\"url\":\"https://www.ica.se/recept/hemmagjord-gnocchi-727225/\",\"position\":8},{\"@type\":\"ListItem\",\"url\":\"https://www.ica.se/recept/pasta-pe'"
      ]
     },
     "execution_count": 157,
     "metadata": {},
     "output_type": "execute_result"
    }
   ],
   "source": [
    "# ICA for last\n",
    "# first of all, I found a weird API call that gives me the full list of recipes (!)\n",
    "url =  \"https://www.ica.se/Templates/ajaxresponse.aspx?ajaxFunction=RecipeListMdsa&mdsarowentityid=&num=16&query=pasta&sortbymetadata=Climate&id=12&_hour=17\"\n",
    "page = requests.get(url)\n",
    "page.text[:1000]"
   ]
  },
  {
   "cell_type": "code",
   "execution_count": 155,
   "metadata": {},
   "outputs": [],
   "source": [
    "# in the URL, we have query for the ingrediends, and num... that is how many results\n",
    "ica_b = bs(page.text, 'html.parser')\n",
    "# again, we get a json... but apparently it gives MAX 92 results"
   ]
  },
  {
   "cell_type": "code",
   "execution_count": 174,
   "metadata": {},
   "outputs": [
    {
     "name": "stdout",
     "output_type": "stream",
     "text": [
      "https://www.ica.se/Templates/ajaxresponse.aspx?ajaxFunction=RecipeListMdsa&mdsarowentityid=&start=0&num=10&query=pasta&sortbymetadata=Climate&id=12&_hour=17\n"
     ]
    },
    {
     "data": {
      "text/plain": [
       "'\\ufeff\\r\\n\\r\\n        <script type=\"application/ld+json\">\\r\\n          {\"@context\":\"http://schema.org\",\"@type\":\"ItemList\",\"itemListElement\":[{\"@type\":\"ListItem\",\"url\":\"https://www.ica.se/recept/lime-och-ingefarsmarinerad-blomkal-och-linssallad-719671/\",\"position\":1},{\"@type\":\"ListItem\",\"url\":\"https://www.ica.se/recept/tahini-592915/\",\"position\":2},{\"@type\":\"ListItem\",\"url\":\"https://www.ica.se/recept/kryddig-tomatsas-717931/\",\"position\":3},{\"@type\":\"ListItem\",\"url\":\"https://www.ica.se/recept/mole-paste-mexikansk-kryddblandning-722752/\",\"position\":4},{\"@type\":\"ListItem\",\"url\":\"https://www.ica.se/recept/tomatsas-grundrecept-722161/\",\"position\":5},{\"@type\":\"ListItem\",\"url\":\"https://www.ica.se/recept/guldmjolk-721832/\",\"position\":6},{\"@type\":\"ListItem\",\"url\":\"https://www.ica.se/recept/kramig-risoni-med-spenat-mynta-och-arter-722470/\",\"position\":7},{\"@type\":\"ListItem\",\"url\":\"https://www.ica.se/recept/hemmagjord-gnocchi-727225/\",\"position\":8},{\"@type\":\"ListItem\",\"url\":\"https://www.ica.se/recept/pasta-pe'"
      ]
     },
     "execution_count": 174,
     "metadata": {},
     "output_type": "execute_result"
    }
   ],
   "source": [
    "# we can use start=X to get around it\n",
    "# this is the complete url, fragile\n",
    "url =  \"https://www.ica.se/Templates/ajaxresponse.aspx?ajaxFunction=RecipeListMdsa&mdsarowentityid=&start={}&num={}&query=pasta&sortbymetadata=Climate&id=12&_hour=17\"\n",
    "print(url.format(0,10))\n",
    "page = requests.get(url.format(0,10))\n",
    "page.text[:1000]"
   ]
  },
  {
   "cell_type": "code",
   "execution_count": 179,
   "metadata": {},
   "outputs": [
    {
     "name": "stdout",
     "output_type": "stream",
     "text": [
      "https://www.ica.se/Templates/ajaxresponse.aspx?ajaxFunction=RecipeListMdsa&mdsarowentityid=&start=0&num=10&query=pasta&sortbymetadata=Climate&id=12&_hour=17\n",
      "﻿\n",
      "\n",
      "        <script type=\"application/ld+json\">\n",
      "          {\"@context\":\"http://schema.org\",\"@type\":\"ItemList\",\"itemListElement\":[{\"@type\":\"ListItem\",\"url\":\"https://www.ica.se/recept/lime-och-ingefarsmarinerad-blomkal-och-linssallad-719671/\",\"position\":1},{\"@type\":\"ListItem\",\"url\":\"https://www.ica.se/recept/tahini-592915/\",\"position\":2},{\"@type\":\"ListItem\",\"url\":\"https://www.ica.se/recept/kryddig-tomatsas-717931/\",\"position\":3},{\"@type\":\"ListItem\",\"url\":\"https://www.ica.se/recept/mole-paste-mexikansk-kryddblandning-722752/\",\"position\":4},{\"@type\":\"ListItem\",\"url\":\"https://www.ica.se/recept/tomatsas-grundrecept-722161/\",\"position\":5},{\"@type\":\"ListItem\",\"url\":\"https://www.ica.se/recept/guldmjolk-721832/\",\"position\":6},{\"@type\":\"ListItem\",\"url\":\"https://www.ica.se/recept/kramig-risoni-med-spenat-mynta-och-arter-722470/\",\"position\":7},{\"@type\":\"ListItem\",\"url\":\"https://www.ica.se/recept/hemmagjord-gnocchi-727225/\",\"position\":8},{\"@type\":\"ListItem\",\"url\":\"https://www.ica.se/recept/pasta-pe\n",
      "https://www.ica.se/Templates/ajaxresponse.aspx?ajaxFunction=RecipeListMdsa&mdsarowentityid=&start=10&num=10&query=pasta&sortbymetadata=Climate&id=12&_hour=17\n",
      "﻿\n",
      "<article class=\"recipe grid_fluid with-background\" data-cooking-time=\"30\">\n",
      "    <div class=\"column size8of20 lg_size5of20\">\n",
      "        <figure class=\"lazyhide sprite2-p\">\n",
      "            <a href=\"https://www.ica.se/recept/chilipesto-727846/\" data-recipename=\"Chilipesto\" data-recipeid=\"727846\" class=\"lazyload js-track-listing-recipe\" data-noscript=\"data-noscript\">\n",
      "                <noscript>\n",
      "                    <img src=\"//assets.icanet.se/f_auto,q_auto/imagevaultfiles/id_226798/cf_5291/chilipesto.jpg\" alt=\"Chilipesto\" class=\"lazyNoscriptActive\" />\n",
      "                </noscript>\n",
      "            </a>\n",
      "        </figure>\n",
      "    </div>\n",
      "    <div class=\"column size12of20 lg_size15of20\">\n",
      "        <header>\n",
      "            <h2 class=\"title\">\n",
      "                <a href=\"https://www.ica.se/recept/chilipesto-727846/\" data-recipename=\"Chilipesto\" data-recipeid=\"727846\" class=\"js-track-listing-recipe\">Chilipesto</a>\n",
      "            </h2>\n",
      "        </header>\n",
      "        <div class=\"content sm_hidden\">\n",
      "            <a hr\n",
      "https://www.ica.se/Templates/ajaxresponse.aspx?ajaxFunction=RecipeListMdsa&mdsarowentityid=&start=20&num=10&query=pasta&sortbymetadata=Climate&id=12&_hour=17\n",
      "﻿\n",
      "<article class=\"recipe grid_fluid with-background\" data-cooking-time=\"30\">\n",
      "    <div class=\"column size8of20 lg_size5of20\">\n",
      "        <figure class=\"lazyhide sprite2-p\">\n",
      "            <a href=\"https://www.ica.se/recept/kramig-pasta-med-tomat-och-kikartor-725967/\" data-recipename=\"Krämig pasta med tomat och kikärtor\" data-recipeid=\"725967\" class=\"lazyload js-track-listing-recipe\" data-noscript=\"data-noscript\">\n",
      "                <noscript>\n",
      "                    <img src=\"//assets.icanet.se/f_auto,q_auto/imagevaultfiles/id_203635/cf_5291/kramig_pasta_med_tomat_och_kikartor.jpg\" alt=\"Krämig pasta med tomat och kikärtor\" class=\"lazyNoscriptActive\" />\n",
      "                </noscript>\n",
      "            </a>\n",
      "        </figure>\n",
      "    </div>\n",
      "    <div class=\"column size12of20 lg_size15of20\">\n",
      "        <header>\n",
      "            <h2 class=\"title\">\n",
      "                <a href=\"https://www.ica.se/recept/kramig-pasta-med-tomat-och-kikartor-725967/\" data-recipename=\"Krämig pasta med tomat och kikärtor\" data-recipeid=\"72\n",
      "https://www.ica.se/Templates/ajaxresponse.aspx?ajaxFunction=RecipeListMdsa&mdsarowentityid=&start=30&num=10&query=pasta&sortbymetadata=Climate&id=12&_hour=17\n",
      "﻿\n",
      "<article class=\"recipe grid_fluid with-background\" data-cooking-time=\"45\">\n",
      "    <div class=\"column size8of20 lg_size5of20\">\n",
      "        <figure class=\"lazyhide sprite2-p\">\n",
      "            <a href=\"https://www.ica.se/recept/golden-milk-smoothie-720194/\" data-recipename=\"Golden milk smoothie\" data-recipeid=\"720194\" class=\"lazyload js-track-listing-recipe\" data-noscript=\"data-noscript\">\n",
      "                <noscript>\n",
      "                    <img src=\"//assets.icanet.se/f_auto,q_auto/imagevaultfiles/id_133814/cf_5291/golden_milk_smoothie.jpg\" alt=\"Golden milk smoothie\" class=\"lazyNoscriptActive\" />\n",
      "                </noscript>\n",
      "            </a>\n",
      "        </figure>\n",
      "    </div>\n",
      "    <div class=\"column size12of20 lg_size15of20\">\n",
      "        <header>\n",
      "            <h2 class=\"title\">\n",
      "                <a href=\"https://www.ica.se/recept/golden-milk-smoothie-720194/\" data-recipename=\"Golden milk smoothie\" data-recipeid=\"720194\" class=\"js-track-listing-recipe\">Golden milk smoothie</a>\n",
      "            </h2>\n",
      "       \n",
      "https://www.ica.se/Templates/ajaxresponse.aspx?ajaxFunction=RecipeListMdsa&mdsarowentityid=&start=40&num=10&query=pasta&sortbymetadata=Climate&id=12&_hour=17\n",
      "﻿\n",
      "<article class=\"recipe grid_fluid with-background\" data-cooking-time=\"30\">\n",
      "    <div class=\"column size8of20 lg_size5of20\">\n",
      "        <figure class=\"lazyhide sprite2-p\">\n",
      "            <a href=\"https://www.ica.se/recept/spaghetti-med-avokado-och-mandel-719185/\" data-recipename=\"Spaghetti med avokado och mandel\" data-recipeid=\"719185\" class=\"lazyload js-track-listing-recipe\" data-noscript=\"data-noscript\">\n",
      "                <noscript>\n",
      "                    <img src=\"//assets.icanet.se/f_auto,q_auto/imagevaultfiles/id_119861/cf_5291/spaghetti_med_avokado_och_mandel.jpg\" alt=\"Spaghetti med avokado och mandel\" class=\"lazyNoscriptActive\" />\n",
      "                </noscript>\n",
      "            </a>\n",
      "        </figure>\n",
      "    </div>\n",
      "    <div class=\"column size12of20 lg_size15of20\">\n",
      "        <header>\n",
      "            <h2 class=\"title\">\n",
      "                <a href=\"https://www.ica.se/recept/spaghetti-med-avokado-och-mandel-719185/\" data-recipename=\"Spaghetti med avokado och mandel\" data-recipeid=\"719185\" class=\"js-tr\n"
     ]
    }
   ],
   "source": [
    "# so I can get as many as I want with:\n",
    "for i in range(5):\n",
    "    current_url = url.format(i*10, 10)\n",
    "    print(current_url)\n",
    "    page = requests.get(current_url)\n",
    "    print(page.text[:1000])"
   ]
  },
  {
   "cell_type": "code",
   "execution_count": 180,
   "metadata": {},
   "outputs": [],
   "source": [
    "# sigh, it looks like the following pages do not have the json... we would need to act differently"
   ]
  },
  {
   "cell_type": "code",
   "execution_count": 181,
   "metadata": {},
   "outputs": [
    {
     "data": {
      "text/plain": [
       "[]"
      ]
     },
     "execution_count": 181,
     "metadata": {},
     "output_type": "execute_result"
    }
   ],
   "source": [
    "# let's try to select it\n",
    "ica_selector = \"head > script\"\n",
    "ica_b.select(ica_selector)"
   ]
  },
  {
   "cell_type": "code",
   "execution_count": 182,
   "metadata": {},
   "outputs": [],
   "source": [
    "# uh... it doesn't work...\n",
    "# (it is NOT a well formed HTML and beautiful soup does not like it)\n",
    "# long story short (insert severa hours of trying) we can use XPATH and lxml"
   ]
  },
  {
   "cell_type": "code",
   "execution_count": 186,
   "metadata": {},
   "outputs": [
    {
     "data": {
      "text/plain": [
       "'\\r\\n    \\r\\n    \\r\\n    \\r\\n        var facet = $.parseJSON(\\'{\"1-lov\":136,\"2-lov\":593,\"3-lov\":266,\"abborre\":1,\"advent\":2,\"alla-hjartans-dag\":14,\"alpro-v1-4-2021\":2,\"amerikansk\":10,\"ananas\":6,\"anka\":2,\"apelsin\":27,\"arkiv\":29,\"arla-2017\":2,\"arla-v2-4-2021\":1,\"asiatisk\":32,\"aubergine\":49,\"avancerad\":23,\"avokado\":30,\"bacon\":129,\"baka\":1,\"bakad\":3,\"bakverk\":1,\"banan\":2,\"barilla-2017\":6,\"barilla-2018\":5,\"barilla-v35-36\":9,\"barn\":430,\"barnmat\":6,\"basilika\":221,\"biff\":7,\"biffar\":23,\"billiga-veckan\":574,\"blomkal\":27,\"blackfisk\":3,\"blamusslor\":13,\"bolognese\":16,\"bratwurst\":1,\"broccoli\":114,\"brunch\":5,\"brysselkal\":6,\"brollop\":6,\"brost\":8,\"buffe\":54,\"bulgur\":2,\"bullar\":1,\"burgare\":1,\"bar\":3,\"bonor\":148,\"caesarsallad\":1,\"cannelloni\":16,\"carbonara\":26,\"cashew\":2,\"champinjon\":104,\"chili\":119,\"chiligryta\":1,\"chipotle\":2,\"choklad\":2,\"chorizo\":36,\"chevre\":4,\"citron\":201,\"cottage-cheese\":9,\"couscous\":2,\"creme-fraiche\":226,\"curry\":39,\"dagens-enkla\":29,\"dessert\":3,\"det-lonar-sig-2015\":1,\"dill\":51,\"dinkel\":1,\"dop\":'"
      ]
     },
     "execution_count": 186,
     "metadata": {},
     "output_type": "execute_result"
    }
   ],
   "source": [
    "# we can use start=X to get around it\n",
    "# this is the complete url, fragile\n",
    "url =  \"https://www.ica.se/Templates/ajaxresponse.aspx?ajaxFunction=RecipeListMdsa&mdsarowentityid=&start={}&num={}&query=pasta&sortbymetadata=Climate&id=12&_hour=17\"\n",
    "page = requests.get(url.format(0,10))\n",
    "# there is something in the body... interesting?\n",
    "ica_x = lxml.html.fromstring(page.content)\n",
    "t = ica_x.xpath('/html/body')[0]\n",
    "str(t.text_content())[:1000]"
   ]
  },
  {
   "cell_type": "code",
   "execution_count": 187,
   "metadata": {},
   "outputs": [
    {
     "data": {
      "text/plain": [
       "'\"1-lov\":136,\"2-lov\":593,\"3-lov\":266,\"abborre\":1,\"advent\":2,\"alla-hjartans-dag\":14,\"alpro-v1-4-2021\":2,\"amerikansk\":10,\"ananas\":6,\"anka\":2,\"apelsin\":27,\"arkiv\":29,\"arla-2017\":2,\"arla-v2-4-2021\":1,\"asiatisk\":32,\"aubergine\":49,\"avancerad\":23,\"avokado\":30,\"bacon\":129,\"baka\":1,\"bakad\":3,\"bakverk\":1,\"banan\":2,\"barilla-2017\":6,\"barilla-2018\":5,\"barilla-v35-36\":9,\"barn\":430,\"barnmat\":6,\"basilika\":221,\"biff\":7,\"biffar\":23,\"billiga-veckan\":574,\"blomkal\":27,\"blackfisk\":3,\"blamusslor\":13,\"bolognese\":16,\"bratwurst\":1,\"broccoli\":114,\"brunch\":5,\"brysselkal\":6,\"brollop\":6,\"brost\":8,\"buffe\":54,\"bulgur\":2,\"bullar\":1,\"burgare\":1,\"bar\":3,\"bonor\":148,\"caesarsallad\":1,\"cannelloni\":16,\"carbonara\":26,\"cashew\":2,\"champinjon\":104,\"chili\":119,\"chiligryta\":1,\"chipotle\":2,\"choklad\":2,\"chorizo\":36,\"chevre\":4,\"citron\":201,\"cottage-cheese\":9,\"couscous\":2,\"creme-fraiche\":226,\"curry\":39,\"dagens-enkla\":29,\"dessert\":3,\"det-lonar-sig-2015\":1,\"dill\":51,\"dinkel\":1,\"dop\":11,\"dragon\":9,\"dressing\":1,\"dryck\":2,\"edamamebonor\":1,\"efterratt\":4,\"eid-al-fitr\":5,\"elis\":5,\"enkel\":315,\"entrecote\":1,\"eriks-saser-2017\":1,\"exotisk\":6,\"falafel\":1,\"falbygdens-ost-2016\":1,\"falukorv\":34,\"fars-dag\":37,\"fazer-v-38-39-2020\":4,\"fest\":76,\"fetaost\":59,\"fika\":1,\"filmjolk\":1,\"file\":234,\"findus-2016\":1,\"findus-2017\":3,\"fisk\":210,\"flask\":158,\"fransk\":11,\"fransyska\":1,\"fredag\":282,\"frikadeller\":17,\"friterad\":3,\"frukost\":3,\"frukt\":75,\"frukt-och-gront\":82,\"frukt-och-gront-2014\":2,\"fylld\":7,\"fankal\":43,\"fars\":229,\"farskost\":21,\"fodelsedag\":41,\"forratt\":13,\"getost\":11,\"glass\":1,\"glaze\":1,\"glutenfri\":156,\"gnocchi\":48,\"granatapple\":1,\"gratinerad\":111,\"gratang\":49,\"gravad\":2,\"grekisk\":6,\"gremolata\":6,\"grill\":55,\"grill-2018\":1,\"grillad\":28,\"gryn\":10,\"gryta\":99,\"grytbitar\":4,\"gradde\":229,\"graddfil\":12,\"grona-bonor\":4,\"grona-linser\":30,\"grona-artor\":50,\"gronare-middagar\":76,\"gronkal\":16,\"gronpeppar\":3,\"gronsaker\":1480,\"gulasch\":1,\"gurka\":23,\"gurkmeja\":14,\"gadda\":1,\"gor-glutenfri\":1637,\"gor-laktosfri\":1131,\"gor-mjolkproteinfri\":1123,\"gor-aggfri\":1427,\"halloumi\":29,\"halloween\":1,\"halstrad\":1,\"haricots-verts\":53,\"hasselnot\":11,\"hel\":10,\"helg\":532,\"hemmagjord\":59,\"het\":38,\"hjort\":7,\"hjortron\":1,\"hoki\":4,\"honung\":38,\"hummer\":1,\"husmanskost\":8,\"huvudratt\":2119,\"halleflundra\":1,\"halsa-2015\":1,\"hogrev\":2,\"host-2014\":1,\"hostkampanj-2012\":5,\"i-folie\":1,\"i-gryta\":49,\"i-lergryta\":1,\"i-langpanna\":1,\"i-mikro\":1,\"i-ugn\":376,\"ica-100-ar\":1,\"icas-matkasse\":871,\"indisk\":15,\"indonesisk\":2,\"ingefara\":37,\"inlagd\":2,\"isterband\":6,\"italiensk\":303,\"japansk\":1,\"jordgubbar\":1,\"jordnot\":7,\"jordartskocka\":5,\"jul\":11,\"jul-2018\":1,\"jarpar\":3,\"kabanoss\":5,\"kalas\":24,\"kalkon\":39,\"kall\":2,\"kalv\":14,\"kampanjer-2016\":10,\"kampanjer-2017\":23,\"kampanjer-2018\":19,\"kampanjer-2019\":11,\"kampanjer-2020\":30,\"kampanjer-2021\":4,\"kanel\":13,\"kantarell\":14,\"kardemumma\":5,\"karibisk\":1,\"karljohan\":8,\"karre\":16,\"kassler\":32,\"kavli-2017\":3,\"kavli-v19-20-2020\":1,\"kavli-v37-38-2019\":2,\"kavli-v39-40-2019\":1,\"kelda-v5-6-2021\":1,\"kidneybonor\":5,\"kidz-day\":69,\"kikartor\":8,\"kinesisk\":2,\"kladdig\":1,\"klimatanpassat\":6,\"klimatratt\":943,\"klimatsmart\":266,\"klubbor\":11,\"kokos\":5,\"kokt\":1141,\"kolja\":1,\"koreansk\":6,\"koriander\":17,\"korv\":214,\"kotlett\":24,\"krabba\":5,\"kronfagel-2016\":2,\"kronfagel-2018\":1,\"kronartskocka\":43,\"kryddor-smaker\":831,\"kraftor\":2,\"kraftskiva\":1,\"kraftstjartar\":29,\"kram\":1,\"kramig\":478,\"kvarg\":25,\"kyckling\":284,\"kycklingkorv\":2,\"kalrabbi\":2,\"kalrot\":3,\"korsbar\":1,\"kott\":780,\"kottbullar\":30,\"kottfarssas\":58,\"laktosfri\":587,\"lamm\":18,\"lammkorv\":5,\"lantmannen-2018\":3,\"lantmannen-v18-19-2019\":1,\"lasagne\":147,\"latinamerikansk\":3,\"lax\":102,\"leroy-2017\":1,\"lime\":16,\"lindad\":1,\"linser\":62,\"lite-festligare\":3,\"lagg\":1,\"lattlagad\":80,\"langkok\":3,\"lar\":29,\"lok\":416,\"lordag\":155,\"lovbiff\":7,\"mackor\":3,\"majrova\":1,\"majs\":60,\"makaroner\":27,\"makrill\":1,\"mandel\":29,\"mango\":10,\"marinad\":3,\"marinerad\":12,\"mascarpone\":7,\"matig\":77,\"matvete\":3,\"maxikoket\":16,\"medel\":1874,\"mejeri\":594,\"mellanmal\":7,\"mellanostern\":5,\"melon\":2,\"mexikansk\":8,\"middag\":2131,\"middagshyllan\":3,\"midsommar\":6,\"mild\":4,\"minestronesoppa\":8,\"mixad\":111,\"mjuk\":1,\"mjol\":74,\"mjolk\":155,\"mjolkproteinfri\":390,\"morot\":170,\"mors-dag\":16,\"mozzarella\":99,\"musslor\":25,\"mustig\":60,\"mynta\":7,\"nordisk\":23,\"nudlar\":6,\"nyckelhalsmarkt\":60,\"nyttig\":189,\"nyar\":4,\"not\":138,\"notter\":122,\"oatly-v38-41-2019\":1,\"omelett\":2,\"osso-buco\":5,\"ost\":620,\"ostronskivling\":10,\"paella\":2,\"palsternacka\":22,\"panerad\":7,\"pannbiff\":3,\"pannkakor\":2,\"paprika\":227,\"parmesan\":207,\"pasta\":1684,\"pastagratang\":182,\"pastasallad\":92,\"pastasas\":217,\"pepparrot\":7,\"persika\":3,\"persilja\":196,\"persisk\":2,\"peruansk\":1,\"pesto\":32,\"philadelphia-v42-43-2019\":4,\"picknick\":36,\"pilgrimsmusslor\":1,\"pinjenot\":43,\"pistagenotter\":4,\"pizza\":1,\"plockmat\":3,\"plommon\":4,\"plattar\":2,\"portobello\":19,\"potatis\":14,\"prinskorv\":6,\"prova-pa-emv\":2,\"pulled-pork\":1,\"pumpa\":11,\"purjolok\":143,\"pure\":2,\"paron\":3,\"pask\":3,\"quinoa\":2,\"quorn\":4,\"ramadan\":11,\"ratatouille\":2,\"ravioli\":8,\"receptshoppen\":270,\"redd\":18,\"ren\":4,\"revbensspjall\":2,\"ricotta\":53,\"ris\":4,\"risenta-2017\":2,\"risenta-gold-green-2018\":1,\"risotto\":3,\"rosa-bandet-2017\":3,\"rosa-bandet-2020\":3,\"rosabandet-2016\":2,\"rosmarin\":56,\"rostad\":32,\"rostas\":5,\"rostbiff\":7,\"rotfrukter\":213,\"rotselleri\":28,\"royal-greenland-v47\":1,\"ruccola\":136,\"rysk\":2,\"rakor\":93,\"radjur\":1,\"roda-linser\":23,\"rodbetor\":5,\"rodlok\":164,\"rodspatta\":6,\"rora\":57,\"saffran\":39,\"saftig\":29,\"salami\":35,\"sallad\":67,\"salsa\":2,\"salsiccia\":33,\"sambal-oelek\":24,\"santa-maria-host-2017\":1,\"santa-maria-2018\":5,\"santa-maria-v15-16-2020\":1,\"santa-maria-v28-2019\":1,\"santa-maria-v28-2020\":1,\"scan\":1,\"scan-2016\":1,\"scan-v25-26\":3,\"schnitzel\":3,\"selleri\":26,\"senap\":61,\"shiitake\":9,\"skaldjur\":161,\"skinka\":127,\"smoothie\":1,\"smaratter\":20,\"snabb\":88,\"snabbt-och-latt\":9,\"snacks\":1,\"snittar\":1,\"sojabonor\":24,\"soppa\":35,\"spaghetti\":159,\"spansk\":10,\"sparris\":36,\"spenat\":183,\"spett\":10,\"squash\":44,\"stark\":15,\"stekt\":810,\"stroganoff\":10,\"stromming\":1,\"student\":205,\"studenten\":16,\"stuvad\":8,\"svamp\":191,\"svarta-bonor\":11,\"svarta-linser\":3,\"svartrot\":1,\"svensk\":22,\"sveriges-masterkock\":2,\"sweet-chili\":13,\"sas\":320,\"sondag\":140,\"sotpotatis\":4,\"tacos\":3,\"tahini\":1,\"tapenade\":1,\"tex-mex\":15,\"thailandsk\":8,\"tidningen-buffe\":332,\"tilltugg\":2,\"tofu\":2,\"tomat\":532,\"tonfisk\":49,\"torkad\":1,\"torsk\":15,\"trattkantarell\":2,\"tulip-v40-42-2020\":7,\"turkisk\":1,\"ugnsbakad\":9,\"ugnsgrillad\":3,\"ugnsstekt\":14,\"under-15-minuter\":40,\"under-30-minuter\":1385,\"under-45-minuter\":609,\"under-60-minuter\":120,\"ungersk\":1,\"vad-ska-vi-ata-ikvall\":121,\"valio-2016\":1,\"valio-2018\":2,\"valnot\":29,\"vardag\":2020,\"varm\":32,\"vegan\":59,\"vegetarisk\":475,\"vete\":68,\"vickning\":6,\"vita-bonor\":37,\"vitkal\":9,\"vitlok\":591,\"vasterbottensost\":13,\"var-nya-husman-2013\":5,\"wao-v23-26-2020\":1,\"wokad\":16,\"yoghurt\":19,\"ytterfile\":4,\"zucchini\":119,\"adelost\":15,\"agg\":57,\"aggfri\":285,\"aggnudlar\":4,\"alg\":3,\"apple\":16,\"artor\":101,\"angkokt\":1,\"osteuropeisk\":2,\"over-60-minuter\":124'"
      ]
     },
     "execution_count": 187,
     "metadata": {},
     "output_type": "execute_result"
    }
   ],
   "source": [
    "# some python splitting magic\n",
    "t.text_content().split('{')[1].split('}')[0]"
   ]
  },
  {
   "cell_type": "code",
   "execution_count": 188,
   "metadata": {},
   "outputs": [
    {
     "data": {
      "text/plain": [
       "{'1-lov': 136,\n",
       " '2-lov': 593,\n",
       " '3-lov': 266,\n",
       " 'abborre': 1,\n",
       " 'advent': 2,\n",
       " 'alla-hjartans-dag': 14,\n",
       " 'alpro-v1-4-2021': 2,\n",
       " 'amerikansk': 10,\n",
       " 'ananas': 6,\n",
       " 'anka': 2,\n",
       " 'apelsin': 27,\n",
       " 'arkiv': 29,\n",
       " 'arla-2017': 2,\n",
       " 'arla-v2-4-2021': 1,\n",
       " 'asiatisk': 32,\n",
       " 'aubergine': 49,\n",
       " 'avancerad': 23,\n",
       " 'avokado': 30,\n",
       " 'bacon': 129,\n",
       " 'baka': 1,\n",
       " 'bakad': 3,\n",
       " 'bakverk': 1,\n",
       " 'banan': 2,\n",
       " 'barilla-2017': 6,\n",
       " 'barilla-2018': 5,\n",
       " 'barilla-v35-36': 9,\n",
       " 'barn': 430,\n",
       " 'barnmat': 6,\n",
       " 'basilika': 221,\n",
       " 'biff': 7,\n",
       " 'biffar': 23,\n",
       " 'billiga-veckan': 574,\n",
       " 'blomkal': 27,\n",
       " 'blackfisk': 3,\n",
       " 'blamusslor': 13,\n",
       " 'bolognese': 16,\n",
       " 'bratwurst': 1,\n",
       " 'broccoli': 114,\n",
       " 'brunch': 5,\n",
       " 'brysselkal': 6,\n",
       " 'brollop': 6,\n",
       " 'brost': 8,\n",
       " 'buffe': 54,\n",
       " 'bulgur': 2,\n",
       " 'bullar': 1,\n",
       " 'burgare': 1,\n",
       " 'bar': 3,\n",
       " 'bonor': 148,\n",
       " 'caesarsallad': 1,\n",
       " 'cannelloni': 16,\n",
       " 'carbonara': 26,\n",
       " 'cashew': 2,\n",
       " 'champinjon': 104,\n",
       " 'chili': 119,\n",
       " 'chiligryta': 1,\n",
       " 'chipotle': 2,\n",
       " 'choklad': 2,\n",
       " 'chorizo': 36,\n",
       " 'chevre': 4,\n",
       " 'citron': 201,\n",
       " 'cottage-cheese': 9,\n",
       " 'couscous': 2,\n",
       " 'creme-fraiche': 226,\n",
       " 'curry': 39,\n",
       " 'dagens-enkla': 29,\n",
       " 'dessert': 3,\n",
       " 'det-lonar-sig-2015': 1,\n",
       " 'dill': 51,\n",
       " 'dinkel': 1,\n",
       " 'dop': 11,\n",
       " 'dragon': 9,\n",
       " 'dressing': 1,\n",
       " 'dryck': 2,\n",
       " 'edamamebonor': 1,\n",
       " 'efterratt': 4,\n",
       " 'eid-al-fitr': 5,\n",
       " 'elis': 5,\n",
       " 'enkel': 315,\n",
       " 'entrecote': 1,\n",
       " 'eriks-saser-2017': 1,\n",
       " 'exotisk': 6,\n",
       " 'falafel': 1,\n",
       " 'falbygdens-ost-2016': 1,\n",
       " 'falukorv': 34,\n",
       " 'fars-dag': 37,\n",
       " 'fazer-v-38-39-2020': 4,\n",
       " 'fest': 76,\n",
       " 'fetaost': 59,\n",
       " 'fika': 1,\n",
       " 'filmjolk': 1,\n",
       " 'file': 234,\n",
       " 'findus-2016': 1,\n",
       " 'findus-2017': 3,\n",
       " 'fisk': 210,\n",
       " 'flask': 158,\n",
       " 'fransk': 11,\n",
       " 'fransyska': 1,\n",
       " 'fredag': 282,\n",
       " 'frikadeller': 17,\n",
       " 'friterad': 3,\n",
       " 'frukost': 3,\n",
       " 'frukt': 75,\n",
       " 'frukt-och-gront': 82,\n",
       " 'frukt-och-gront-2014': 2,\n",
       " 'fylld': 7,\n",
       " 'fankal': 43,\n",
       " 'fars': 229,\n",
       " 'farskost': 21,\n",
       " 'fodelsedag': 41,\n",
       " 'forratt': 13,\n",
       " 'getost': 11,\n",
       " 'glass': 1,\n",
       " 'glaze': 1,\n",
       " 'glutenfri': 156,\n",
       " 'gnocchi': 48,\n",
       " 'granatapple': 1,\n",
       " 'gratinerad': 111,\n",
       " 'gratang': 49,\n",
       " 'gravad': 2,\n",
       " 'grekisk': 6,\n",
       " 'gremolata': 6,\n",
       " 'grill': 55,\n",
       " 'grill-2018': 1,\n",
       " 'grillad': 28,\n",
       " 'gryn': 10,\n",
       " 'gryta': 99,\n",
       " 'grytbitar': 4,\n",
       " 'gradde': 229,\n",
       " 'graddfil': 12,\n",
       " 'grona-bonor': 4,\n",
       " 'grona-linser': 30,\n",
       " 'grona-artor': 50,\n",
       " 'gronare-middagar': 76,\n",
       " 'gronkal': 16,\n",
       " 'gronpeppar': 3,\n",
       " 'gronsaker': 1480,\n",
       " 'gulasch': 1,\n",
       " 'gurka': 23,\n",
       " 'gurkmeja': 14,\n",
       " 'gadda': 1,\n",
       " 'gor-glutenfri': 1637,\n",
       " 'gor-laktosfri': 1131,\n",
       " 'gor-mjolkproteinfri': 1123,\n",
       " 'gor-aggfri': 1427,\n",
       " 'halloumi': 29,\n",
       " 'halloween': 1,\n",
       " 'halstrad': 1,\n",
       " 'haricots-verts': 53,\n",
       " 'hasselnot': 11,\n",
       " 'hel': 10,\n",
       " 'helg': 532,\n",
       " 'hemmagjord': 59,\n",
       " 'het': 38,\n",
       " 'hjort': 7,\n",
       " 'hjortron': 1,\n",
       " 'hoki': 4,\n",
       " 'honung': 38,\n",
       " 'hummer': 1,\n",
       " 'husmanskost': 8,\n",
       " 'huvudratt': 2119,\n",
       " 'halleflundra': 1,\n",
       " 'halsa-2015': 1,\n",
       " 'hogrev': 2,\n",
       " 'host-2014': 1,\n",
       " 'hostkampanj-2012': 5,\n",
       " 'i-folie': 1,\n",
       " 'i-gryta': 49,\n",
       " 'i-lergryta': 1,\n",
       " 'i-langpanna': 1,\n",
       " 'i-mikro': 1,\n",
       " 'i-ugn': 376,\n",
       " 'ica-100-ar': 1,\n",
       " 'icas-matkasse': 871,\n",
       " 'indisk': 15,\n",
       " 'indonesisk': 2,\n",
       " 'ingefara': 37,\n",
       " 'inlagd': 2,\n",
       " 'isterband': 6,\n",
       " 'italiensk': 303,\n",
       " 'japansk': 1,\n",
       " 'jordgubbar': 1,\n",
       " 'jordnot': 7,\n",
       " 'jordartskocka': 5,\n",
       " 'jul': 11,\n",
       " 'jul-2018': 1,\n",
       " 'jarpar': 3,\n",
       " 'kabanoss': 5,\n",
       " 'kalas': 24,\n",
       " 'kalkon': 39,\n",
       " 'kall': 2,\n",
       " 'kalv': 14,\n",
       " 'kampanjer-2016': 10,\n",
       " 'kampanjer-2017': 23,\n",
       " 'kampanjer-2018': 19,\n",
       " 'kampanjer-2019': 11,\n",
       " 'kampanjer-2020': 30,\n",
       " 'kampanjer-2021': 4,\n",
       " 'kanel': 13,\n",
       " 'kantarell': 14,\n",
       " 'kardemumma': 5,\n",
       " 'karibisk': 1,\n",
       " 'karljohan': 8,\n",
       " 'karre': 16,\n",
       " 'kassler': 32,\n",
       " 'kavli-2017': 3,\n",
       " 'kavli-v19-20-2020': 1,\n",
       " 'kavli-v37-38-2019': 2,\n",
       " 'kavli-v39-40-2019': 1,\n",
       " 'kelda-v5-6-2021': 1,\n",
       " 'kidneybonor': 5,\n",
       " 'kidz-day': 69,\n",
       " 'kikartor': 8,\n",
       " 'kinesisk': 2,\n",
       " 'kladdig': 1,\n",
       " 'klimatanpassat': 6,\n",
       " 'klimatratt': 943,\n",
       " 'klimatsmart': 266,\n",
       " 'klubbor': 11,\n",
       " 'kokos': 5,\n",
       " 'kokt': 1141,\n",
       " 'kolja': 1,\n",
       " 'koreansk': 6,\n",
       " 'koriander': 17,\n",
       " 'korv': 214,\n",
       " 'kotlett': 24,\n",
       " 'krabba': 5,\n",
       " 'kronfagel-2016': 2,\n",
       " 'kronfagel-2018': 1,\n",
       " 'kronartskocka': 43,\n",
       " 'kryddor-smaker': 831,\n",
       " 'kraftor': 2,\n",
       " 'kraftskiva': 1,\n",
       " 'kraftstjartar': 29,\n",
       " 'kram': 1,\n",
       " 'kramig': 478,\n",
       " 'kvarg': 25,\n",
       " 'kyckling': 284,\n",
       " 'kycklingkorv': 2,\n",
       " 'kalrabbi': 2,\n",
       " 'kalrot': 3,\n",
       " 'korsbar': 1,\n",
       " 'kott': 780,\n",
       " 'kottbullar': 30,\n",
       " 'kottfarssas': 58,\n",
       " 'laktosfri': 587,\n",
       " 'lamm': 18,\n",
       " 'lammkorv': 5,\n",
       " 'lantmannen-2018': 3,\n",
       " 'lantmannen-v18-19-2019': 1,\n",
       " 'lasagne': 147,\n",
       " 'latinamerikansk': 3,\n",
       " 'lax': 102,\n",
       " 'leroy-2017': 1,\n",
       " 'lime': 16,\n",
       " 'lindad': 1,\n",
       " 'linser': 62,\n",
       " 'lite-festligare': 3,\n",
       " 'lagg': 1,\n",
       " 'lattlagad': 80,\n",
       " 'langkok': 3,\n",
       " 'lar': 29,\n",
       " 'lok': 416,\n",
       " 'lordag': 155,\n",
       " 'lovbiff': 7,\n",
       " 'mackor': 3,\n",
       " 'majrova': 1,\n",
       " 'majs': 60,\n",
       " 'makaroner': 27,\n",
       " 'makrill': 1,\n",
       " 'mandel': 29,\n",
       " 'mango': 10,\n",
       " 'marinad': 3,\n",
       " 'marinerad': 12,\n",
       " 'mascarpone': 7,\n",
       " 'matig': 77,\n",
       " 'matvete': 3,\n",
       " 'maxikoket': 16,\n",
       " 'medel': 1874,\n",
       " 'mejeri': 594,\n",
       " 'mellanmal': 7,\n",
       " 'mellanostern': 5,\n",
       " 'melon': 2,\n",
       " 'mexikansk': 8,\n",
       " 'middag': 2131,\n",
       " 'middagshyllan': 3,\n",
       " 'midsommar': 6,\n",
       " 'mild': 4,\n",
       " 'minestronesoppa': 8,\n",
       " 'mixad': 111,\n",
       " 'mjuk': 1,\n",
       " 'mjol': 74,\n",
       " 'mjolk': 155,\n",
       " 'mjolkproteinfri': 390,\n",
       " 'morot': 170,\n",
       " 'mors-dag': 16,\n",
       " 'mozzarella': 99,\n",
       " 'musslor': 25,\n",
       " 'mustig': 60,\n",
       " 'mynta': 7,\n",
       " 'nordisk': 23,\n",
       " 'nudlar': 6,\n",
       " 'nyckelhalsmarkt': 60,\n",
       " 'nyttig': 189,\n",
       " 'nyar': 4,\n",
       " 'not': 138,\n",
       " 'notter': 122,\n",
       " 'oatly-v38-41-2019': 1,\n",
       " 'omelett': 2,\n",
       " 'osso-buco': 5,\n",
       " 'ost': 620,\n",
       " 'ostronskivling': 10,\n",
       " 'paella': 2,\n",
       " 'palsternacka': 22,\n",
       " 'panerad': 7,\n",
       " 'pannbiff': 3,\n",
       " 'pannkakor': 2,\n",
       " 'paprika': 227,\n",
       " 'parmesan': 207,\n",
       " 'pasta': 1684,\n",
       " 'pastagratang': 182,\n",
       " 'pastasallad': 92,\n",
       " 'pastasas': 217,\n",
       " 'pepparrot': 7,\n",
       " 'persika': 3,\n",
       " 'persilja': 196,\n",
       " 'persisk': 2,\n",
       " 'peruansk': 1,\n",
       " 'pesto': 32,\n",
       " 'philadelphia-v42-43-2019': 4,\n",
       " 'picknick': 36,\n",
       " 'pilgrimsmusslor': 1,\n",
       " 'pinjenot': 43,\n",
       " 'pistagenotter': 4,\n",
       " 'pizza': 1,\n",
       " 'plockmat': 3,\n",
       " 'plommon': 4,\n",
       " 'plattar': 2,\n",
       " 'portobello': 19,\n",
       " 'potatis': 14,\n",
       " 'prinskorv': 6,\n",
       " 'prova-pa-emv': 2,\n",
       " 'pulled-pork': 1,\n",
       " 'pumpa': 11,\n",
       " 'purjolok': 143,\n",
       " 'pure': 2,\n",
       " 'paron': 3,\n",
       " 'pask': 3,\n",
       " 'quinoa': 2,\n",
       " 'quorn': 4,\n",
       " 'ramadan': 11,\n",
       " 'ratatouille': 2,\n",
       " 'ravioli': 8,\n",
       " 'receptshoppen': 270,\n",
       " 'redd': 18,\n",
       " 'ren': 4,\n",
       " 'revbensspjall': 2,\n",
       " 'ricotta': 53,\n",
       " 'ris': 4,\n",
       " 'risenta-2017': 2,\n",
       " 'risenta-gold-green-2018': 1,\n",
       " 'risotto': 3,\n",
       " 'rosa-bandet-2017': 3,\n",
       " 'rosa-bandet-2020': 3,\n",
       " 'rosabandet-2016': 2,\n",
       " 'rosmarin': 56,\n",
       " 'rostad': 32,\n",
       " 'rostas': 5,\n",
       " 'rostbiff': 7,\n",
       " 'rotfrukter': 213,\n",
       " 'rotselleri': 28,\n",
       " 'royal-greenland-v47': 1,\n",
       " 'ruccola': 136,\n",
       " 'rysk': 2,\n",
       " 'rakor': 93,\n",
       " 'radjur': 1,\n",
       " 'roda-linser': 23,\n",
       " 'rodbetor': 5,\n",
       " 'rodlok': 164,\n",
       " 'rodspatta': 6,\n",
       " 'rora': 57,\n",
       " 'saffran': 39,\n",
       " 'saftig': 29,\n",
       " 'salami': 35,\n",
       " 'sallad': 67,\n",
       " 'salsa': 2,\n",
       " 'salsiccia': 33,\n",
       " 'sambal-oelek': 24,\n",
       " 'santa-maria-host-2017': 1,\n",
       " 'santa-maria-2018': 5,\n",
       " 'santa-maria-v15-16-2020': 1,\n",
       " 'santa-maria-v28-2019': 1,\n",
       " 'santa-maria-v28-2020': 1,\n",
       " 'scan': 1,\n",
       " 'scan-2016': 1,\n",
       " 'scan-v25-26': 3,\n",
       " 'schnitzel': 3,\n",
       " 'selleri': 26,\n",
       " 'senap': 61,\n",
       " 'shiitake': 9,\n",
       " 'skaldjur': 161,\n",
       " 'skinka': 127,\n",
       " 'smoothie': 1,\n",
       " 'smaratter': 20,\n",
       " 'snabb': 88,\n",
       " 'snabbt-och-latt': 9,\n",
       " 'snacks': 1,\n",
       " 'snittar': 1,\n",
       " 'sojabonor': 24,\n",
       " 'soppa': 35,\n",
       " 'spaghetti': 159,\n",
       " 'spansk': 10,\n",
       " 'sparris': 36,\n",
       " 'spenat': 183,\n",
       " 'spett': 10,\n",
       " 'squash': 44,\n",
       " 'stark': 15,\n",
       " 'stekt': 810,\n",
       " 'stroganoff': 10,\n",
       " 'stromming': 1,\n",
       " 'student': 205,\n",
       " 'studenten': 16,\n",
       " 'stuvad': 8,\n",
       " 'svamp': 191,\n",
       " 'svarta-bonor': 11,\n",
       " 'svarta-linser': 3,\n",
       " 'svartrot': 1,\n",
       " 'svensk': 22,\n",
       " 'sveriges-masterkock': 2,\n",
       " 'sweet-chili': 13,\n",
       " 'sas': 320,\n",
       " 'sondag': 140,\n",
       " 'sotpotatis': 4,\n",
       " 'tacos': 3,\n",
       " 'tahini': 1,\n",
       " 'tapenade': 1,\n",
       " 'tex-mex': 15,\n",
       " 'thailandsk': 8,\n",
       " 'tidningen-buffe': 332,\n",
       " 'tilltugg': 2,\n",
       " 'tofu': 2,\n",
       " 'tomat': 532,\n",
       " 'tonfisk': 49,\n",
       " 'torkad': 1,\n",
       " 'torsk': 15,\n",
       " 'trattkantarell': 2,\n",
       " 'tulip-v40-42-2020': 7,\n",
       " 'turkisk': 1,\n",
       " 'ugnsbakad': 9,\n",
       " 'ugnsgrillad': 3,\n",
       " 'ugnsstekt': 14,\n",
       " 'under-15-minuter': 40,\n",
       " 'under-30-minuter': 1385,\n",
       " 'under-45-minuter': 609,\n",
       " 'under-60-minuter': 120,\n",
       " 'ungersk': 1,\n",
       " 'vad-ska-vi-ata-ikvall': 121,\n",
       " 'valio-2016': 1,\n",
       " 'valio-2018': 2,\n",
       " 'valnot': 29,\n",
       " 'vardag': 2020,\n",
       " 'varm': 32,\n",
       " 'vegan': 59,\n",
       " 'vegetarisk': 475,\n",
       " 'vete': 68,\n",
       " 'vickning': 6,\n",
       " 'vita-bonor': 37,\n",
       " 'vitkal': 9,\n",
       " 'vitlok': 591,\n",
       " 'vasterbottensost': 13,\n",
       " 'var-nya-husman-2013': 5,\n",
       " 'wao-v23-26-2020': 1,\n",
       " 'wokad': 16,\n",
       " 'yoghurt': 19,\n",
       " 'ytterfile': 4,\n",
       " 'zucchini': 119,\n",
       " 'adelost': 15,\n",
       " 'agg': 57,\n",
       " 'aggfri': 285,\n",
       " 'aggnudlar': 4,\n",
       " 'alg': 3,\n",
       " 'apple': 16,\n",
       " 'artor': 101,\n",
       " 'angkokt': 1,\n",
       " 'osteuropeisk': 2,\n",
       " 'over-60-minuter': 124}"
      ]
     },
     "execution_count": 188,
     "metadata": {},
     "output_type": "execute_result"
    }
   ],
   "source": [
    "# let's try\n",
    "json.loads('{' + t.text_content().split('{')[1].split('}')[0] + '}')"
   ]
  },
  {
   "cell_type": "code",
   "execution_count": 189,
   "metadata": {},
   "outputs": [
    {
     "data": {
      "text/plain": [
       "'\\r\\n          {\"@context\":\"http://schema.org\",\"@type\":\"ItemList\",\"itemListElement\":[{\"@type\":\"ListItem\",\"url\":\"https://www.ica.se/recept/lime-och-ingefarsmarinerad-blomkal-och-linssallad-719671/\",\"position\":1},{\"@type\":\"ListItem\",\"url\":\"https://www.ica.se/recept/tahini-592915/\",\"position\":2},{\"@type\":\"ListItem\",\"url\":\"https://www.ica.se/recept/kryddig-tomatsas-717931/\",\"position\":3},{\"@type\":\"ListItem\",\"url\":\"https://www.ica.se/recept/mole-paste-mexikansk-kryddblandning-722752/\",\"position\":4},{\"@type\":\"ListItem\",\"url\":\"https://www.ica.se/recept/tomatsas-grundrecept-722161/\",\"position\":5},{\"@type\":\"ListItem\",\"url\":\"https://www.ica.se/recept/guldmjolk-721832/\",\"position\":6},{\"@type\":\"ListItem\",\"url\":\"https://www.ica.se/recept/kramig-risoni-med-spenat-mynta-och-arter-722470/\",\"position\":7},{\"@type\":\"ListItem\",\"url\":\"https://www.ica.se/recept/hemmagjord-gnocchi-727225/\",\"position\":8},{\"@type\":\"ListItem\",\"url\":\"https://www.ica.se/recept/pasta-pesto-med-pinjenotter-och-farsk-basilika-722577/\",\"position\":9},{\"@type\":\"ListItem\",\"url\":\"https://www.ica.se/recept/tahinidressing-719878/\",\"position\":10}]}\\r\\n        '"
      ]
     },
     "execution_count": 189,
     "metadata": {},
     "output_type": "execute_result"
    }
   ],
   "source": [
    "# weird, no idea what's that, let's try again\n",
    "xpath = '/html/head/script'\n",
    "t = ica_x.xpath(xpath)[0]\n",
    "t.text_content()"
   ]
  },
  {
   "cell_type": "code",
   "execution_count": 190,
   "metadata": {},
   "outputs": [
    {
     "data": {
      "text/plain": [
       "{'@context': 'http://schema.org',\n",
       " '@type': 'ItemList',\n",
       " 'itemListElement': [{'@type': 'ListItem',\n",
       "   'url': 'https://www.ica.se/recept/lime-och-ingefarsmarinerad-blomkal-och-linssallad-719671/',\n",
       "   'position': 1},\n",
       "  {'@type': 'ListItem',\n",
       "   'url': 'https://www.ica.se/recept/tahini-592915/',\n",
       "   'position': 2},\n",
       "  {'@type': 'ListItem',\n",
       "   'url': 'https://www.ica.se/recept/kryddig-tomatsas-717931/',\n",
       "   'position': 3},\n",
       "  {'@type': 'ListItem',\n",
       "   'url': 'https://www.ica.se/recept/mole-paste-mexikansk-kryddblandning-722752/',\n",
       "   'position': 4},\n",
       "  {'@type': 'ListItem',\n",
       "   'url': 'https://www.ica.se/recept/tomatsas-grundrecept-722161/',\n",
       "   'position': 5},\n",
       "  {'@type': 'ListItem',\n",
       "   'url': 'https://www.ica.se/recept/guldmjolk-721832/',\n",
       "   'position': 6},\n",
       "  {'@type': 'ListItem',\n",
       "   'url': 'https://www.ica.se/recept/kramig-risoni-med-spenat-mynta-och-arter-722470/',\n",
       "   'position': 7},\n",
       "  {'@type': 'ListItem',\n",
       "   'url': 'https://www.ica.se/recept/hemmagjord-gnocchi-727225/',\n",
       "   'position': 8},\n",
       "  {'@type': 'ListItem',\n",
       "   'url': 'https://www.ica.se/recept/pasta-pesto-med-pinjenotter-och-farsk-basilika-722577/',\n",
       "   'position': 9},\n",
       "  {'@type': 'ListItem',\n",
       "   'url': 'https://www.ica.se/recept/tahinidressing-719878/',\n",
       "   'position': 10}]}"
      ]
     },
     "execution_count": 190,
     "metadata": {},
     "output_type": "execute_result"
    }
   ],
   "source": [
    "json.loads(str(t.text_content()).strip())"
   ]
  },
  {
   "cell_type": "code",
   "execution_count": 169,
   "metadata": {},
   "outputs": [
    {
     "data": {
      "text/plain": [
       "16"
      ]
     },
     "execution_count": 169,
     "metadata": {},
     "output_type": "execute_result"
    }
   ],
   "source": [
    "# bingo\n",
    "len(json.loads(str(t.text_content()).strip())['itemListElement'])"
   ]
  },
  {
   "cell_type": "code",
   "execution_count": null,
   "metadata": {},
   "outputs": [],
   "source": []
  }
 ],
 "metadata": {
  "kernelspec": {
   "display_name": "Python 3",
   "language": "python",
   "name": "python3"
  },
  "language_info": {
   "codemirror_mode": {
    "name": "ipython",
    "version": 3
   },
   "file_extension": ".py",
   "mimetype": "text/x-python",
   "name": "python",
   "nbconvert_exporter": "python",
   "pygments_lexer": "ipython3",
   "version": "3.9.5"
  }
 },
 "nbformat": 4,
 "nbformat_minor": 4
}
